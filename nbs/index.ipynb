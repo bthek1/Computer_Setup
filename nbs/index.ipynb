{
 "cells": [
  {
   "cell_type": "markdown",
   "metadata": {},
   "source": [
    "# [Computer Setup for Deep Learning](https://bthek1.github.io/Computer_Setup/)\n",
    "\n",
    "> FastAI setting up and development guide"
   ]
  },
  {
   "cell_type": "markdown",
   "metadata": {},
   "source": [
    "## Uninstalls  \n",
    "- OneDrive"
   ]
  },
  {
   "cell_type": "markdown",
   "metadata": {},
   "source": [
    "## [Install WSL](https://bthek1.github.io/Computer_Setup/wsl_setup.html)"
   ]
  },
  {
   "cell_type": "markdown",
   "metadata": {},
   "source": [
    "## Install Git\n",
    "\n"
   ]
  },
  {
   "cell_type": "markdown",
   "metadata": {},
   "source": [
    "```sh\n",
    "sudo apt -y install git\n",
    "```\n",
    "\n",
    "- generate ssh key\n",
    "- add it to github SSH keys in settings"
   ]
  },
  {
   "cell_type": "markdown",
   "metadata": {},
   "source": [
    "## Run Fastsetup in linux file"
   ]
  },
  {
   "cell_type": "markdown",
   "metadata": {},
   "source": [
    "```sh\n",
    "git clone git@github.com:fastai/fastsetup.git\n",
    "```"
   ]
  },
  {
   "cell_type": "markdown",
   "metadata": {},
   "source": [
    "> Read README.txt"
   ]
  },
  {
   "cell_type": "markdown",
   "metadata": {},
   "source": [
    "```sh\n",
    "cd fastsetup\n",
    "```"
   ]
  },
  {
   "cell_type": "markdown",
   "metadata": {},
   "source": [
    "give files permission to run\n",
    "```sh\n",
    "chmod +x *\n",
    "```"
   ]
  },
  {
   "cell_type": "markdown",
   "metadata": {},
   "source": [
    "```sh\n",
    "sudo ./ubuntu-wsl.sh\n",
    "```"
   ]
  },
  {
   "cell_type": "markdown",
   "metadata": {},
   "source": [
    "```sh\n",
    "source dotfiles.sh\n",
    "```"
   ]
  },
  {
   "cell_type": "markdown",
   "metadata": {},
   "source": [
    "```sh\n",
    "source setup-conda.sh\n",
    "```"
   ]
  },
  {
   "cell_type": "markdown",
   "metadata": {},
   "source": [
    "```sh\n",
    ". ~/.bashrc\n",
    "```"
   ]
  },
  {
   "cell_type": "markdown",
   "metadata": {},
   "source": [
    "```sh\n",
    "conda install -yq mamba\n",
    "```"
   ]
  },
  {
   "cell_type": "markdown",
   "metadata": {},
   "source": [
    "## Resource monitoring"
   ]
  },
  {
   "cell_type": "markdown",
   "metadata": {},
   "source": [
    "```sh\n",
    "sudo add-apt-repository ppa:bashtop-monitor/bashtop\n",
    "sudo apt update\n",
    "```"
   ]
  },
  {
   "cell_type": "markdown",
   "metadata": {},
   "source": [
    "```sh\n",
    "sudo apt install bashtop\n",
    "```"
   ]
  },
  {
   "cell_type": "markdown",
   "metadata": {},
   "source": [
    "```sh\n",
    "bashtop\n",
    "```"
   ]
  },
  {
   "cell_type": "markdown",
   "metadata": {},
   "source": [
    "## GPU monitoring"
   ]
  },
  {
   "cell_type": "markdown",
   "metadata": {},
   "source": [
    "```sh\n",
    "sudo add-apt-repository ppa:flexiondotorg/nvtop\n",
    "sudo apt install nvtop\n",
    "```"
   ]
  },
  {
   "cell_type": "markdown",
   "metadata": {},
   "source": [
    "## Nvtop"
   ]
  },
  {
   "cell_type": "markdown",
   "metadata": {},
   "source": [
    "```sh\n",
    "sudo add-apt-repository ppa:flexiondotorg/nvtop\n",
    "sudo apt install nvtop\n",
    "```"
   ]
  },
  {
   "cell_type": "markdown",
   "metadata": {},
   "source": [
    "## Bash terminal customisation"
   ]
  },
  {
   "cell_type": "markdown",
   "metadata": {},
   "source": [
    "```sh\n",
    "parse_git_branch() { b=$(git branch --show-current 2> /dev/null); echo ${b:+\" ($b)\"}; }\n",
    "\n",
    "PS1='\\[\\e[38;5;214m\\]\\A\\[\\e[0m\\] \\[\\e[38;5;108;1m\\]\\u\\[\\e[0;38;5;114;2m\\]@\\[\\e[0;38;5;119m\\]\\h\\[\\e[0m\\] \\[\\e[38;5;117m\\]\\w'\n",
    "\n",
    "PS1='${debian_chroot:+($debian_chroot)}'$PS1'\\[\\e[38;5;204;1m\\]$(parse_git_branch)\\[\\033[00m\\]\\$ '\n",
    "\n",
    "PS2='${debian_chroot:+($debian_chroot)}\\[\\e[38;5;214m\\]\\A \\[\\033[00m\\]\\$ '\n",
    "```\n"
   ]
  },
  {
   "cell_type": "markdown",
   "metadata": {},
   "source": [
    "## Font customisation"
   ]
  },
  {
   "cell_type": "markdown",
   "metadata": {},
   "source": [
    "- Add firacode to windows settings"
   ]
  },
  {
   "cell_type": "markdown",
   "metadata": {},
   "source": [
    "In powershell\n",
    "```sh\n",
    "Set-ExecutionPolicy RemoteSigned -Scope CurrentUser\n",
    "```\n",
    "```sh\n",
    "iwr -useb get.scoop.sh | iex\n",
    "```\n",
    "```sh\n",
    "scoop bucket add nerd-fonts\n",
    "```\n",
    "```sh\n",
    "scoop install firacode\n",
    "```\n",
    "```sh\n",
    "iwr -useb get.scoop.sh | iex\n",
    "```"
   ]
  },
  {
   "cell_type": "code",
   "execution_count": null,
   "metadata": {},
   "outputs": [],
   "source": [
    "#| hide\n",
    "from nbdev.showdoc import *"
   ]
  },
  {
   "cell_type": "markdown",
   "metadata": {},
   "source": [
    "## Step for git push\n",
    "\n",
    "- nbdev_prepare\n",
    "```sh\n",
    "nbdev_prepare\n",
    "```"
   ]
  },
  {
   "cell_type": "markdown",
   "metadata": {},
   "source": [
    "- Git stuff\n",
    "```sh \n",
    "git add .\n",
    "git commit -m \"update\"\n",
    "git push\n",
    "```"
   ]
  },
  {
   "cell_type": "markdown",
   "metadata": {},
   "source": [
    "## After changing dependencies"
   ]
  },
  {
   "cell_type": "markdown",
   "metadata": {},
   "source": [
    "```sh\n",
    "pip install newAI\n",
    "```\n",
    "\n",
    "```sh\n",
    "pip install -e '.[dev]'\n",
    "```\n",
    "\n"
   ]
  },
  {
   "cell_type": "code",
   "execution_count": null,
   "metadata": {},
   "outputs": [],
   "source": []
  }
 ],
 "metadata": {
  "kernelspec": {
   "display_name": "python3",
   "language": "python",
   "name": "python3"
  },
  "widgets": {
   "application/vnd.jupyter.widget-state+json": {
    "state": {},
    "version_major": 2,
    "version_minor": 0
   }
  }
 },
 "nbformat": 4,
 "nbformat_minor": 4
}
