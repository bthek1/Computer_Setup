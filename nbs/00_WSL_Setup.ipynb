{
 "cells": [
  {
   "cell_type": "markdown",
   "id": "5a781e94-a176-4a83-af67-174dfb74244b",
   "metadata": {},
   "source": [
    "# WSL Setup Instructions\n",
    "\n",
    "> Details on setting up WSL\n",
    "\n",
    "\n",
    "- skip_showdoc: true\n",
    "- skip_exec: true"
   ]
  },
  {
   "cell_type": "code",
   "execution_count": null,
   "id": "0eff3b9f-4842-4377-8557-86c060600080",
   "metadata": {},
   "outputs": [],
   "source": [
    "#| default_exp wsl"
   ]
  },
  {
   "cell_type": "markdown",
   "id": "25336a53-b243-49b5-ba1e-aa9b233df551",
   "metadata": {},
   "source": [
    "## WSL Config Files"
   ]
  },
  {
   "attachments": {},
   "cell_type": "markdown",
   "id": "1884f021-a8fd-4fb5-80f1-7f5ff6f55b50",
   "metadata": {},
   "source": [
    "### .wslconfig\n",
    "\n",
    "> .wslconfig to configure global settings across all installed distributions running on WSL 2."
   ]
  },
  {
   "cell_type": "markdown",
   "id": "6c06f67a-a055-4105-86d4-74aed140eac1",
   "metadata": {},
   "source": [
    "```bash\n",
    "# Settings apply across all Linux distros running on WSL 2\n",
    "[wsl2]\n",
    "\n",
    "# Limits VM memory to use no more than 4 GB, this can be set as whole numbers using GB or MB\n",
    "memory=30GB \n",
    "swap=32GB\n",
    "\n",
    "# Sets the VM to use two virtual processors\n",
    "processors=12\n",
    "\n",
    "\n",
    "networkingMode = bridged\n",
    "\n",
    "\n",
    "[experimental]\n",
    "autoMemoryReclaim = dropcache\n",
    "\n",
    "```"
   ]
  },
  {
   "attachments": {},
   "cell_type": "markdown",
   "id": "b3e390cf-ad28-4fcf-9f28-edbdb78e3cff",
   "metadata": {},
   "source": [
    "### wsl.conf\n",
    "\n",
    "> wsl.conf to configure local settings per-distribution for each Linux distribution running on WSL 1 or WSL 2.\n",
    "\n",
    "> Location: /etc/wsl.conf\n",
    "\n",
    "> The wsl.conf file supports four sections: `automount`, `network`, `interop`, and `user`. "
   ]
  },
  {
   "cell_type": "code",
   "execution_count": null,
   "id": "7c1e609f-2437-4f6e-b2ad-aa7a40d8787b",
   "metadata": {},
   "outputs": [
    {
     "name": "stdout",
     "output_type": "stream",
     "text": [
      "\n",
      "[boot]\n",
      "systemd=true\n",
      "\n",
      "[network]\n",
      "hostname = DemoHost\n",
      "generateHosts = false\n",
      "generateResolvConf = false\n",
      "\n",
      "# [user]\n",
      "# default = DemoUser\n",
      "\n"
     ]
    }
   ],
   "source": [
    "!cat /etc/wsl.conf"
   ]
  },
  {
   "cell_type": "markdown",
   "id": "1af0588b-66f8-4731-8983-5b4def8827da",
   "metadata": {},
   "source": []
  },
  {
   "cell_type": "markdown",
   "id": "c822856f-c342-4b91-a09e-e60a1f575abb",
   "metadata": {},
   "source": []
  },
  {
   "cell_type": "markdown",
   "id": "f320c6c5-c5ca-406b-b8bd-24e1551b311c",
   "metadata": {},
   "source": [
    "## WSL to Windows port forwarding"
   ]
  },
  {
   "cell_type": "markdown",
   "id": "0a13f736-d7a4-4b83-a244-15227d490426",
   "metadata": {},
   "source": [
    "> In powershell as administrator\n",
    "\n",
    "\n",
    "```sh\n",
    "netsh interface portproxy add v4tov4 listenport=80 listenaddress=0.0.0.0 connectport=80 connectaddress=$($(wsl hostname -I).Trim());\n",
    "```\n",
    "\n",
    "```sh\n",
    "New-NetFirewallRule -DisplayName \"WSL2 Port Bridge\" -Direction Inbound -Action Allow -Protocol TCP -LocalPort 80\n",
    "```\n",
    "\n"
   ]
  }
 ],
 "metadata": {
  "kernelspec": {
   "display_name": "python3",
   "language": "python",
   "name": "python3"
  }
 },
 "nbformat": 4,
 "nbformat_minor": 5
}
