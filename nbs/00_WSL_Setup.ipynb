{
 "cells": [
  {
   "cell_type": "markdown",
   "id": "5a781e94-a176-4a83-af67-174dfb74244b",
   "metadata": {},
   "source": [
    "# WSL Setup Instructions\n",
    "\n",
    "> Details on setting up WSL\n",
    "\n",
    "\n",
    "- skip_showdoc: true\n",
    "- skip_exec: true"
   ]
  },
  {
   "cell_type": "code",
   "execution_count": null,
   "id": "0eff3b9f-4842-4377-8557-86c060600080",
   "metadata": {},
   "outputs": [],
   "source": [
    "#| default_exp wsl"
   ]
  },
  {
   "cell_type": "markdown",
   "id": "25336a53-b243-49b5-ba1e-aa9b233df551",
   "metadata": {},
   "source": [
    "## WSL Config Files"
   ]
  },
  {
   "cell_type": "markdown",
   "id": "dca05267-3486-4fd2-bcd9-7fad2dc5d781",
   "metadata": {},
   "source": []
  },
  {
   "cell_type": "markdown",
   "id": "7971e3cf-e2f5-483c-b49a-831f96a0533d",
   "metadata": {},
   "source": []
  },
  {
   "cell_type": "markdown",
   "id": "1af0588b-66f8-4731-8983-5b4def8827da",
   "metadata": {},
   "source": []
  },
  {
   "cell_type": "markdown",
   "id": "c822856f-c342-4b91-a09e-e60a1f575abb",
   "metadata": {},
   "source": []
  },
  {
   "cell_type": "markdown",
   "id": "f320c6c5-c5ca-406b-b8bd-24e1551b311c",
   "metadata": {},
   "source": [
    "## WSL to Windows port forwarding"
   ]
  },
  {
   "cell_type": "markdown",
   "id": "0a13f736-d7a4-4b83-a244-15227d490426",
   "metadata": {},
   "source": [
    "> In powershell as administrator\n",
    "\n",
    "\n",
    "```sh\n",
    "netsh interface portproxy add v4tov4 listenport=80 listenaddress=0.0.0.0 connectport=80 connectaddress=$($(wsl hostname -I).Trim());\n",
    "```\n",
    "\n",
    "```sh\n",
    "New-NetFirewallRule -DisplayName \"WSL2 Port Bridge\" -Direction Inbound -Action Allow -Protocol TCP -LocalPort 80\n",
    "```\n",
    "\n"
   ]
  }
 ],
 "metadata": {
  "kernelspec": {
   "display_name": "python3",
   "language": "python",
   "name": "python3"
  }
 },
 "nbformat": 4,
 "nbformat_minor": 5
}
