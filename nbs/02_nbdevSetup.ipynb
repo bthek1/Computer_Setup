{
 "cells": [
  {
   "cell_type": "markdown",
   "id": "5ca195cf-2cea-4e5d-b938-16b3e97e6217",
   "metadata": {},
   "source": [
    "# Nbdev Setup\n",
    "\n",
    "> Details on setting up nbdev Setup"
   ]
  },
  {
   "cell_type": "code",
   "execution_count": null,
   "id": "d6189095-bb2b-4479-ac0c-346224dd9b52",
   "metadata": {},
   "outputs": [],
   "source": [
    "#| default_exp nbdev"
   ]
  },
  {
   "cell_type": "markdown",
   "id": "5e9263c8-1b16-4dae-a7f2-da57543c1db4",
   "metadata": {},
   "source": [
    "# Installation\n",
    "\n",
    "- Python\n",
    "- A Python package manager: we recommend conda or pip - download anaconda\n",
    "- Jupyter Notebook - see below\n",
    "- nbdev - see below\n",
    "- Quarto - see quarto setup\n",
    "\n"
   ]
  },
  {
   "cell_type": "markdown",
   "id": "424df19c-c16e-47b2-9b1c-45e28bd0c5cc",
   "metadata": {},
   "source": [
    "### To get Jupyter labs\n",
    "```sh\n",
    "pip install jupyterlab\n",
    "```"
   ]
  },
  {
   "cell_type": "markdown",
   "id": "3dc399a2-833c-47cc-bebf-0e1cfd85830a",
   "metadata": {},
   "source": [
    "### To launch jupyter labs\n",
    "```sh\n",
    "jupyter lab\n",
    "```"
   ]
  },
  {
   "cell_type": "markdown",
   "id": "7c5795b5-3b55-48ad-a47c-dec46171205a",
   "metadata": {},
   "source": [
    "Install nbdev"
   ]
  },
  {
   "cell_type": "markdown",
   "id": "56edbd68-0600-4c46-8048-ce27684965fa",
   "metadata": {},
   "source": []
  }
 ],
 "metadata": {
  "kernelspec": {
   "display_name": "python3",
   "language": "python",
   "name": "python3"
  }
 },
 "nbformat": 4,
 "nbformat_minor": 5
}
