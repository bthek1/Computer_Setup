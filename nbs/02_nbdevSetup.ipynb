{
 "cells": [
  {
   "cell_type": "markdown",
   "id": "5ca195cf-2cea-4e5d-b938-16b3e97e6217",
   "metadata": {},
   "source": [
    "# Nbdev Setup\n",
    "\n",
    "> Details on setting up nbdev Setup"
   ]
  },
  {
   "cell_type": "code",
   "execution_count": null,
   "id": "d6189095-bb2b-4479-ac0c-346224dd9b52",
   "metadata": {},
   "outputs": [],
   "source": [
    "#| default_exp nbdev"
   ]
  },
  {
   "cell_type": "markdown",
   "id": "5e9263c8-1b16-4dae-a7f2-da57543c1db4",
   "metadata": {},
   "source": [
    "# Installation\n",
    "\n",
    "- Python\n",
    "- A Python package manager: we recommend conda or pip - download anaconda\n",
    "- Jupyter Notebook - see below\n",
    "- nbdev - see below\n",
    "- Quarto - see quarto setup\n",
    "\n"
   ]
  },
  {
   "cell_type": "markdown",
   "id": "424df19c-c16e-47b2-9b1c-45e28bd0c5cc",
   "metadata": {},
   "source": [
    "### To get Jupyter labs\n",
    "```sh\n",
    "pip install jupyterlab\n",
    "```"
   ]
  },
  {
   "cell_type": "markdown",
   "id": "3dc399a2-833c-47cc-bebf-0e1cfd85830a",
   "metadata": {},
   "source": [
    "To launch jupyter labs\n",
    "```sh\n",
    "jupyter lab\n",
    "```"
   ]
  },
  {
   "cell_type": "markdown",
   "id": "7c5795b5-3b55-48ad-a47c-dec46171205a",
   "metadata": {},
   "source": [
    "To install nbdev\n",
    "```sh\n",
    "pip install nbdev\n",
    "```\n",
    "> conda doesn't work for windows\n"
   ]
  },
  {
   "cell_type": "markdown",
   "id": "56edbd68-0600-4c46-8048-ce27684965fa",
   "metadata": {},
   "source": [
    "> get instructin for quarto with \n",
    "```sh\n",
    "nbdev_install_quarto\n",
    "```"
   ]
  },
  {
   "cell_type": "markdown",
   "id": "6512eaf6-a6a6-4d39-8ffb-9f4fbda98440",
   "metadata": {},
   "source": [
    "Install the extension by entering:\n",
    "```sh\n",
    "pip install jupyterlab-quarto\n",
    "```"
   ]
  },
  {
   "cell_type": "markdown",
   "id": "13785aaa-a369-4474-912b-0c2ff37c7a79",
   "metadata": {},
   "source": [
    "## Create an empty GitHub repo\n",
    "\n",
    "- make it public\n",
    "- add a gitignore file\n"
   ]
  },
  {
   "cell_type": "markdown",
   "id": "62eb5f6a-b1a1-4e05-9823-aa57c0b2b6d2",
   "metadata": {},
   "source": [
    "- clone it into project location\n",
    "```sh\n",
    "git clone https://github.com/PROEJECT_NAME.git\n",
    "```\n"
   ]
  },
  {
   "cell_type": "markdown",
   "id": "5947b497-dc95-42d4-ac66-ee45d47f3516",
   "metadata": {},
   "source": [
    "## RUN Nbdev"
   ]
  },
  {
   "cell_type": "markdown",
   "id": "dd614fcd-1ce8-4dfa-9753-8542b2cb86d7",
   "metadata": {},
   "source": [
    "Initialise your nbdev repo by entering:\n",
    "```sh\n",
    "nbdev_new\n",
    "```\n",
    "It may ask you to enter information that it couldn’t infer from git or GitHub."
   ]
  },
  {
   "cell_type": "markdown",
   "id": "afded359-5136-4871-85e7-af2c9c0530d1",
   "metadata": {},
   "source": [
    "- Do a git push to make sure everything is working\n",
    "```sh\n",
    "git add .\n",
    "git commit -m'Initial commit'\n",
    "git push\n",
    "\n",
    "```"
   ]
  },
  {
   "cell_type": "markdown",
   "id": "1f538f0a-6e05-4eb3-81d1-41d96a0e1eab",
   "metadata": {},
   "source": [
    "> Go to settings on Github, go to pages, Change Branch to gh-pages"
   ]
  },
  {
   "cell_type": "markdown",
   "id": "6f4d3247-5fe1-48ec-9bd5-1a0bd7301022",
   "metadata": {},
   "source": [
    "- Then check on Actions"
   ]
  },
  {
   "cell_type": "markdown",
   "id": "4e14b3a1-553e-4865-89b3-3843a42cb7db",
   "metadata": {},
   "source": [
    "# Useful commands"
   ]
  },
  {
   "cell_type": "markdown",
   "id": "7bb8d891-0a32-4ffd-a404-7c874398a496",
   "metadata": {},
   "source": []
  },
  {
   "cell_type": "markdown",
   "id": "4b4d0caa-675d-46dc-a214-9f407b72802a",
   "metadata": {},
   "source": []
  },
  {
   "cell_type": "markdown",
   "id": "44804596-48e0-4460-acab-6bea49aa2212",
   "metadata": {},
   "source": []
  },
  {
   "cell_type": "markdown",
   "id": "299b88c0-4e5b-49ca-8b02-b27f984b3889",
   "metadata": {},
   "source": []
  },
  {
   "cell_type": "markdown",
   "id": "1c062574-5dee-4fbc-b028-5cf8d49ece12",
   "metadata": {},
   "source": []
  },
  {
   "cell_type": "markdown",
   "id": "dd7b9ff5-efea-4d05-9820-c6bbbcec98f5",
   "metadata": {},
   "source": []
  }
 ],
 "metadata": {
  "kernelspec": {
   "display_name": "python3",
   "language": "python",
   "name": "python3"
  }
 },
 "nbformat": 4,
 "nbformat_minor": 5
}
