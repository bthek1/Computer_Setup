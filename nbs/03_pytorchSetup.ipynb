{
 "cells": [
  {
   "cell_type": "markdown",
   "id": "8f8cd87b-8fc9-4774-a5b0-c323baa75a12",
   "metadata": {},
   "source": [
    "# Pytorch Setup\n",
    "\n",
    "> Details on setting up Pytorch Setup"
   ]
  },
  {
   "cell_type": "code",
   "execution_count": null,
   "id": "1ce83a7a-0461-443b-b362-43d0640f6277",
   "metadata": {},
   "outputs": [],
   "source": [
    "#| default_exp pytorch"
   ]
  },
  {
   "cell_type": "markdown",
   "id": "1e3d4146-710b-4339-b6d0-a614fa829339",
   "metadata": {},
   "source": [
    "## Computer Setup\n",
    "\n",
    "> Uninstall Onedrive\n",
    "\n",
    "> Install:\n",
    "\n",
    "- Matlab\n",
    "- Git\n",
    "- vscode\n",
    "- docker\n",
    "- anaconda\n",
    "- nvidia:\n",
    "\n",
    ">> toolit\n",
    "\n",
    ">> cuda\n",
    "\n",
    "> cudnn\n"
   ]
  },
  {
   "cell_type": "markdown",
   "id": "7c095a1f-fe57-46ce-9560-9627a4fdd6f4",
   "metadata": {},
   "source": [
    "## Program Setup\n",
    " \n",
    "- nbdev - see nbdev page\n",
    "- quarto - see quarto page\n",
    "- jupyter lab - see nbdev page\n",
    "\n",
    "- Optional installs\n",
    "\n",
    "> vim \n",
    "```sh\n",
    " - conda install -c conda-forge vim\n",
    "```\n",
    "> grep\n",
    "```sh\n",
    " - conda install -c conda-forge grep\n",
    "```"
   ]
  },
  {
   "cell_type": "markdown",
   "id": "e498fc54-bf0a-4ba6-9dc0-a9f13a5cbc71",
   "metadata": {},
   "source": []
  },
  {
   "cell_type": "markdown",
   "id": "9669feef-9385-4216-9f95-e018e21691ba",
   "metadata": {},
   "source": []
  },
  {
   "cell_type": "markdown",
   "id": "68bd0dbe-f848-419c-9063-0fdf69be4bd1",
   "metadata": {},
   "source": []
  },
  {
   "cell_type": "markdown",
   "id": "15e7f48d-1b3c-4c50-8ac3-1ea5f6808e9c",
   "metadata": {},
   "source": []
  },
  {
   "cell_type": "markdown",
   "id": "e316e925-c57a-45ae-87ef-48b43978a16a",
   "metadata": {},
   "source": []
  },
  {
   "cell_type": "markdown",
   "id": "3513003f-f74a-418c-a818-fc0a143e928c",
   "metadata": {},
   "source": []
  },
  {
   "cell_type": "markdown",
   "id": "92785a5d-5162-481c-95ee-16a579628a5e",
   "metadata": {},
   "source": []
  },
  {
   "cell_type": "markdown",
   "id": "3a033314-c52c-4ef9-ac80-e6bea558a0ac",
   "metadata": {},
   "source": []
  }
 ],
 "metadata": {
  "kernelspec": {
   "display_name": "python3",
   "language": "python",
   "name": "python3"
  }
 },
 "nbformat": 4,
 "nbformat_minor": 5
}
