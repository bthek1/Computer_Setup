{
 "cells": [
  {
   "cell_type": "markdown",
   "id": "8f8cd87b-8fc9-4774-a5b0-c323baa75a12",
   "metadata": {},
   "source": [
    "# Pytorch Setup\n",
    "\n",
    "> Details on setting up Pytorch Setup"
   ]
  },
  {
   "cell_type": "code",
   "execution_count": null,
   "id": "1ce83a7a-0461-443b-b362-43d0640f6277",
   "metadata": {},
   "outputs": [],
   "source": [
    "#| default_exp pytorch"
   ]
  },
  {
   "cell_type": "code",
   "execution_count": null,
   "id": "3aa3433c-0088-4bdb-9e8e-59da9cd552ad",
   "metadata": {},
   "outputs": [
    {
     "data": {
      "text/plain": [
       "2"
      ]
     },
     "execution_count": null,
     "metadata": {},
     "output_type": "execute_result"
    }
   ],
   "source": [
    "1+1"
   ]
  },
  {
   "cell_type": "code",
   "execution_count": null,
   "id": "8ccbe12c-a965-446d-affd-ee565df449fa",
   "metadata": {},
   "outputs": [],
   "source": []
  }
 ],
 "metadata": {
  "kernelspec": {
   "display_name": "python3",
   "language": "python",
   "name": "python3"
  }
 },
 "nbformat": 4,
 "nbformat_minor": 5
}
