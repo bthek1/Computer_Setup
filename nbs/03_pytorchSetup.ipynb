{
 "cells": [
  {
   "cell_type": "markdown",
   "id": "8f8cd87b-8fc9-4774-a5b0-c323baa75a12",
   "metadata": {},
   "source": [
    "# Pytorch Setup\n",
    "\n",
    "> Details on setting up Pytorch Setup"
   ]
  },
  {
   "cell_type": "code",
   "execution_count": null,
   "id": "1ce83a7a-0461-443b-b362-43d0640f6277",
   "metadata": {},
   "outputs": [],
   "source": [
    "#| default_exp pytorch"
   ]
  },
  {
   "cell_type": "markdown",
   "id": "1e3d4146-710b-4339-b6d0-a614fa829339",
   "metadata": {},
   "source": [
    "## Computer Setup\n",
    "\n",
    "1. Uninstall \n",
    "    - Onedrive\n",
    "\n",
    "2. Download and Install:\n",
    "    - Matlab\n",
    "    - Git\n",
    "    - vscode\n",
    "    - docker\n",
    "    - anaconda\n",
    "    - nvidia:\n",
    "        - cuda toolkit"
   ]
  },
  {
   "cell_type": "markdown",
   "id": "7c095a1f-fe57-46ce-9560-9627a4fdd6f4",
   "metadata": {},
   "source": [
    "## Program Setup\n",
    " \n",
    "- nbdev - see nbdev page\n",
    "- quarto - see quarto page\n",
    "- jupyter lab - see nbdev page\n",
    "\n",
    "- Optional installs\n",
    "\n",
    "    - vim \n",
    "    \n",
    "    ```sh\n",
    "    conda install -c conda-forge vim\n",
    "    ```\n",
    "    - grep\n",
    "    \n",
    "    ```sh\n",
    "    conda install -c conda-forge grep\n",
    "    ```"
   ]
  },
  {
   "cell_type": "markdown",
   "id": "e498fc54-bf0a-4ba6-9dc0-a9f13a5cbc71",
   "metadata": {},
   "source": [
    "## Prerequisites for pytorch\n",
    "\n",
    "1. Install Anaconda\n",
    "2. Install CUDA, if your machine has a CUDA-enabled GPU.\n",
    "3. If you want to build on Windows, Visual Studio with MSVC toolset, and NVTX are also needed. The exact requirements of those dependencies could be found out here.\n",
    "4. Follow the steps described here: https://github.com/pytorch/pytorch#from-source"
   ]
  },
  {
   "cell_type": "markdown",
   "id": "9669feef-9385-4216-9f95-e018e21691ba",
   "metadata": {},
   "source": [
    "For installing pytorch\n",
    "```sh\n",
    "conda install pytorch torchvision torchaudio pytorch-cuda=11.8 -c pytorch -c nvidia\n",
    "```"
   ]
  },
  {
   "cell_type": "code",
   "execution_count": null,
   "id": "adcc5786-d70c-4586-82a0-c62afc33303e",
   "metadata": {},
   "outputs": [],
   "source": [
    "#|eval: <false>\n",
    "#|code-fold: <true>\n",
    "import torch"
   ]
  },
  {
   "cell_type": "code",
   "execution_count": null,
   "id": "f04231ef-cc7b-40f6-8a93-0c2888b67784",
   "metadata": {},
   "outputs": [],
   "source": []
  },
  {
   "cell_type": "code",
   "execution_count": null,
   "id": "a787fb8d-8b8c-4ad9-8762-6c3b618de117",
   "metadata": {},
   "outputs": [
    {
     "name": "stdout",
     "output_type": "stream",
     "text": [
      "tensor([[0.6660, 0.8828, 0.8786],\n",
      "        [0.1932, 0.2143, 0.1244],\n",
      "        [0.7643, 0.7395, 0.5036],\n",
      "        [0.1526, 0.3148, 0.5178],\n",
      "        [0.9121, 0.2890, 0.9676]])\n"
     ]
    }
   ],
   "source": [
    "x = torch.rand(5,3)\n",
    "print(x)"
   ]
  },
  {
   "cell_type": "code",
   "execution_count": null,
   "id": "8c588541-48d7-4e58-9455-962356e976a0",
   "metadata": {},
   "outputs": [
    {
     "data": {
      "text/plain": [
       "True"
      ]
     },
     "execution_count": null,
     "metadata": {},
     "output_type": "execute_result"
    }
   ],
   "source": [
    "torch.cuda.is_available()"
   ]
  },
  {
   "cell_type": "code",
   "execution_count": null,
   "id": "d658cd5a-c9c1-4fa4-a79e-171f23c2c229",
   "metadata": {},
   "outputs": [
    {
     "data": {
      "text/plain": [
       "1"
      ]
     },
     "execution_count": null,
     "metadata": {},
     "output_type": "execute_result"
    }
   ],
   "source": [
    "torch.cuda.device_count()"
   ]
  },
  {
   "cell_type": "code",
   "execution_count": null,
   "id": "97170999-aae1-4205-814e-66ea4858eb40",
   "metadata": {},
   "outputs": [
    {
     "name": "stdout",
     "output_type": "stream",
     "text": [
      "nvcc: NVIDIA (R) Cuda compiler driver\n",
      "Copyright (c) 2005-2022 NVIDIA Corporation\n",
      "Built on Wed_Sep_21_10:41:10_Pacific_Daylight_Time_2022\n",
      "Cuda compilation tools, release 11.8, V11.8.89\n",
      "Build cuda_11.8.r11.8/compiler.31833905_0\n"
     ]
    }
   ],
   "source": [
    "!nvcc --version"
   ]
  },
  {
   "cell_type": "code",
   "execution_count": null,
   "id": "2348034b-2a4c-40a4-9b48-fa873aa54eb4",
   "metadata": {},
   "outputs": [
    {
     "name": "stdout",
     "output_type": "stream",
     "text": [
      "Sat Jul 15 01:11:16 2023       \n",
      "+-----------------------------------------------------------------------------+\n",
      "| NVIDIA-SMI 522.06       Driver Version: 522.06       CUDA Version: 11.8     |\n",
      "|-------------------------------+----------------------+----------------------+\n",
      "| GPU  Name            TCC/WDDM | Bus-Id        Disp.A | Volatile Uncorr. ECC |\n",
      "| Fan  Temp  Perf  Pwr:Usage/Cap|         Memory-Usage | GPU-Util  Compute M. |\n",
      "|                               |                      |               MIG M. |\n",
      "|===============================+======================+======================|\n",
      "|   0  NVIDIA GeForce ... WDDM  | 00000000:01:00.0  On |                  N/A |\n",
      "| N/A   43C    P8     3W /  N/A |    337MiB /  6144MiB |      3%      Default |\n",
      "|                               |                      |                  N/A |\n",
      "+-------------------------------+----------------------+----------------------+\n",
      "                                                                               \n",
      "+-----------------------------------------------------------------------------+\n",
      "| Processes:                                                                  |\n",
      "|  GPU   GI   CI        PID   Type   Process name                  GPU Memory |\n",
      "|        ID   ID                                                   Usage      |\n",
      "|=============================================================================|\n",
      "+-----------------------------------------------------------------------------+\n"
     ]
    }
   ],
   "source": [
    "!nvidia-smi"
   ]
  },
  {
   "cell_type": "code",
   "execution_count": null,
   "id": "562f9447-3003-4139-a108-2d30705b8766",
   "metadata": {},
   "outputs": [],
   "source": []
  }
 ],
 "metadata": {
  "kernelspec": {
   "display_name": "python3",
   "language": "python",
   "name": "python3"
  }
 },
 "nbformat": 4,
 "nbformat_minor": 5
}
