{
 "cells": [
  {
   "cell_type": "markdown",
   "id": "8f8cd87b-8fc9-4774-a5b0-c323baa75a12",
   "metadata": {},
   "source": [
    "# Pytorch Setup\n",
    "\n",
    "> Details on setting up Pytorch Setup"
   ]
  },
  {
   "cell_type": "code",
   "execution_count": null,
   "id": "1ce83a7a-0461-443b-b362-43d0640f6277",
   "metadata": {},
   "outputs": [],
   "source": [
    "#| default_exp pytorch"
   ]
  },
  {
   "cell_type": "markdown",
   "id": "1e3d4146-710b-4339-b6d0-a614fa829339",
   "metadata": {},
   "source": [
    "## Computer Setup\n",
    "\n",
    "1. Uninstall \n",
    "    - Onedrive\n",
    "\n",
    "2. Download and Install:\n",
    "    - Matlab\n",
    "    - Git\n",
    "    - vscode\n",
    "    - docker\n",
    "    - anaconda\n",
    "    - nvidia:\n",
    "        - cuda toolkit"
   ]
  },
  {
   "cell_type": "markdown",
   "id": "7c095a1f-fe57-46ce-9560-9627a4fdd6f4",
   "metadata": {},
   "source": [
    "## Program Setup\n",
    " \n",
    "- nbdev - see nbdev page\n",
    "- quarto - see quarto page\n",
    "- jupyter lab - see nbdev page\n",
    "\n",
    "- Optional installs\n",
    "\n",
    "    - vim \n",
    "    \n",
    "    ```sh\n",
    "    conda install -c conda-forge vim\n",
    "    ```\n",
    "    - grep\n",
    "    \n",
    "    ```sh\n",
    "    conda install -c conda-forge grep\n",
    "    ```"
   ]
  },
  {
   "cell_type": "markdown",
   "id": "e498fc54-bf0a-4ba6-9dc0-a9f13a5cbc71",
   "metadata": {},
   "source": [
    "## Prerequisites for pytorch\n",
    "\n",
    "1. Install Anaconda\n",
    "2. Install CUDA, if your machine has a CUDA-enabled GPU.\n",
    "3. If you want to build on Windows, Visual Studio with MSVC toolset, and NVTX are also needed. The exact requirements of those dependencies could be found out here.\n",
    "4. Follow the steps described here: https://github.com/pytorch/pytorch#from-source"
   ]
  },
  {
   "cell_type": "markdown",
   "id": "9669feef-9385-4216-9f95-e018e21691ba",
   "metadata": {},
   "source": [
    "For installing pytorch\n",
    "```sh\n",
    "mamba install pytorch torchvision torchaudio pytorch-cuda=11.8 -c pytorch -c nvidia\n",
    "```"
   ]
  },
  {
   "cell_type": "code",
   "execution_count": null,
   "id": "adcc5786-d70c-4586-82a0-c62afc33303e",
   "metadata": {},
   "outputs": [
    {
     "ename": "ModuleNotFoundError",
     "evalue": "No module named 'torch'",
     "output_type": "error",
     "traceback": [
      "\u001b[0;31m---------------------------------------------------------------------------\u001b[0m",
      "\u001b[0;31mModuleNotFoundError\u001b[0m                       Traceback (most recent call last)",
      "Cell \u001b[0;32mIn[7], line 3\u001b[0m\n\u001b[1;32m      1\u001b[0m \u001b[38;5;66;03m#|eval: <false>\u001b[39;00m\n\u001b[1;32m      2\u001b[0m \u001b[38;5;66;03m#|code-fold: <true>\u001b[39;00m\n\u001b[0;32m----> 3\u001b[0m \u001b[38;5;28;01mimport\u001b[39;00m \u001b[38;5;21;01mtorch\u001b[39;00m\n",
      "\u001b[0;31mModuleNotFoundError\u001b[0m: No module named 'torch'"
     ]
    }
   ],
   "source": [
    "#|eval: <false>\n",
    "#|code-fold: <true>\n",
    "import torch"
   ]
  },
  {
   "cell_type": "code",
   "execution_count": null,
   "id": "a787fb8d-8b8c-4ad9-8762-6c3b618de117",
   "metadata": {},
   "outputs": [
    {
     "ename": "NameError",
     "evalue": "name 'torch' is not defined",
     "output_type": "error",
     "traceback": [
      "\u001b[0;31m---------------------------------------------------------------------------\u001b[0m",
      "\u001b[0;31mNameError\u001b[0m                                 Traceback (most recent call last)",
      "Cell \u001b[0;32mIn[5], line 1\u001b[0m\n\u001b[0;32m----> 1\u001b[0m x \u001b[38;5;241m=\u001b[39m \u001b[43mtorch\u001b[49m\u001b[38;5;241m.\u001b[39mrand(\u001b[38;5;241m5\u001b[39m,\u001b[38;5;241m3\u001b[39m)\n\u001b[1;32m      2\u001b[0m \u001b[38;5;28mprint\u001b[39m(x)\n",
      "\u001b[0;31mNameError\u001b[0m: name 'torch' is not defined"
     ]
    }
   ],
   "source": [
    "x = torch.rand(5,3)\n",
    "print(x)"
   ]
  },
  {
   "cell_type": "code",
   "execution_count": null,
   "id": "8c588541-48d7-4e58-9455-962356e976a0",
   "metadata": {},
   "outputs": [
    {
     "ename": "NameError",
     "evalue": "name 'torch' is not defined",
     "output_type": "error",
     "traceback": [
      "\u001b[0;31m---------------------------------------------------------------------------\u001b[0m",
      "\u001b[0;31mNameError\u001b[0m                                 Traceback (most recent call last)",
      "Cell \u001b[0;32mIn[6], line 1\u001b[0m\n\u001b[0;32m----> 1\u001b[0m \u001b[43mtorch\u001b[49m\u001b[38;5;241m.\u001b[39mcuda\u001b[38;5;241m.\u001b[39mis_available()\n",
      "\u001b[0;31mNameError\u001b[0m: name 'torch' is not defined"
     ]
    }
   ],
   "source": [
    "torch.cuda.is_available()"
   ]
  },
  {
   "cell_type": "code",
   "execution_count": null,
   "id": "d658cd5a-c9c1-4fa4-a79e-171f23c2c229",
   "metadata": {},
   "outputs": [],
   "source": [
    "torch.cuda.device_count()"
   ]
  },
  {
   "cell_type": "code",
   "execution_count": null,
   "id": "97170999-aae1-4205-814e-66ea4858eb40",
   "metadata": {},
   "outputs": [],
   "source": [
    "!nvcc --version"
   ]
  },
  {
   "cell_type": "code",
   "execution_count": null,
   "id": "2348034b-2a4c-40a4-9b48-fa873aa54eb4",
   "metadata": {},
   "outputs": [],
   "source": [
    "!nvidia-smi"
   ]
  },
  {
   "cell_type": "code",
   "execution_count": null,
   "id": "562f9447-3003-4139-a108-2d30705b8766",
   "metadata": {},
   "outputs": [],
   "source": []
  }
 ],
 "metadata": {
  "kernelspec": {
   "display_name": "python3",
   "language": "python",
   "name": "python3"
  }
 },
 "nbformat": 4,
 "nbformat_minor": 5
}
