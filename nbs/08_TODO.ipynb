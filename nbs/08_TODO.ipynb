{
 "cells": [
  {
   "cell_type": "markdown",
   "id": "4e56875a-f6b7-4f9c-a488-c482db6728d9",
   "metadata": {},
   "source": [
    "---\n",
    "# To Do:\n",
    "\n",
    "> To Do list\n",
    "- key1: value1\n",
    "- key2: value2\n",
    "- categories: [c1, c2]\n",
    "\n",
    "\n",
    "format:\n",
    "  html:\n",
    "    theme:\n",
    "      light: flatly\n",
    "      dark: darkly\n",
    "    mermaid:\n",
    "      theme: forest\n",
    "\n",
    "\n",
    "---"
   ]
  },
  {
   "cell_type": "markdown",
   "id": "33325b7b-0de8-4b0d-a7f9-6198971ad06c",
   "metadata": {},
   "source": [
    "## To do"
   ]
  },
  {
   "cell_type": "markdown",
   "id": "586827e3-9dcf-4eaf-828c-084127b63bd4",
   "metadata": {},
   "source": [
    "- [ ] The Forge\n",
    "- [ ] FASTAI Course\n",
    "- [ ] MATLAB Course\n",
    "- [ ] CSSE - ML topics\n",
    "- [ ] FAST pages\n",
    "- [ ] WEBSITE DEVELOPMENT\n",
    "- [ ] VISION APP - 3D\n",
    "- [ ] 3D Assignment\n",
    "- [ ] DOCKER"
   ]
  },
  {
   "cell_type": "markdown",
   "id": "97440985-2667-49d2-a213-c83bd39f6069",
   "metadata": {},
   "source": [
    "MATH2001 - 8h\n",
    "\n",
    "LAWS1100 - 3 weeks\n",
    "\n",
    "ECON1011 - 8 weeks\n",
    "\n",
    "FINM1418 - 2 weeks\n",
    "ACCT1101 - 2 weeks\n",
    "\n",
    "ELEC3100 - 9h  \n",
    "ELEC4620 - 3 weeks\n",
    "\n",
    "matlab: 61-2-8669-4700 \n",
    "\n",
    "smym - THEKKEL02\n",
    "\n",
    "solar service-1234567890\n",
    "solar user-12346578\n",
    "\n",
    "29/08/2023\n",
    "To do:\n",
    "- FASTAI Course\n",
    "- Matlab Course\n",
    "- CSSE ML topics\n",
    "\n",
    "- Docker for fastAI\n",
    "\n",
    "- Fast Pages\n",
    "- oracle - web developement - https://www.youtube.com/watch?v=NKc3k7xceT8&ab_channel=CloudTech\n",
    "\n",
    "- appen - job \n",
    "\n",
    "- forage virtual intern\n",
    "\n",
    "- Vision App - 3d reconstruction/ assignment\n"
   ]
  },
  {
   "cell_type": "markdown",
   "id": "2de7ada1-7b38-4618-8d43-afdf925d8696",
   "metadata": {},
   "source": [
    "## Plans"
   ]
  },
  {
   "cell_type": "markdown",
   "id": "a6aa5ad4-69c3-4ca7-b830-81fa2bc20e76",
   "metadata": {},
   "source": [
    "### Build drone"
   ]
  },
  {
   "cell_type": "markdown",
   "id": "b41e985d-c4bc-493c-af74-dcb40fbf3a3f",
   "metadata": {},
   "source": [
    " - Arduino nano ble sense\n",
    " - two way communication\n",
    " - use better sensor\n",
    " - buck regulator 5v\n",
    " - draw.io"
   ]
  },
  {
   "cell_type": "markdown",
   "id": "1163950b-37c6-412f-a08a-f3dcc01d85bb",
   "metadata": {},
   "source": [
    "### Job"
   ]
  },
  {
   "cell_type": "markdown",
   "id": "047d5a94-d32c-4c4b-9b9d-d24a0656b32c",
   "metadata": {},
   "source": [
    " - research project\n",
    " - IT support\n",
    " - Data entry\n",
    " - military\n",
    "- formlabs company"
   ]
  },
  {
   "cell_type": "markdown",
   "id": "a037fe77-5979-4f94-8300-5f659316a56d",
   "metadata": {},
   "source": [
    "### Trading bot (in processes)"
   ]
  },
  {
   "cell_type": "markdown",
   "id": "36630434-cbcf-4f44-8207-509128aab5da",
   "metadata": {},
   "source": [
    "- predict cycles - FFT\n",
    "- machine learning\n",
    " - send messages\n",
    "-  TesterStatistics()\n",
    "- draw.io"
   ]
  },
  {
   "cell_type": "markdown",
   "id": "d838eef2-386d-4d70-99cb-3acfac12886c",
   "metadata": {},
   "source": [
    "### Distance tracking app"
   ]
  },
  {
   "cell_type": "markdown",
   "id": "09c1ea9b-c11f-45b6-b089-8bc343f1d3b9",
   "metadata": {},
   "source": [
    "- new phone\n",
    "- using focus\n",
    "- machine learning\n",
    "- speed tracking\n",
    "- draw.io "
   ]
  },
  {
   "cell_type": "markdown",
   "id": "0c354d96-605f-43d4-88f9-cb7962aba98f",
   "metadata": {},
   "source": [
    "### integrated marketing"
   ]
  },
  {
   "cell_type": "markdown",
   "id": "a0347f75-2dad-454f-bc0c-311de71db183",
   "metadata": {},
   "source": [
    "- facebook\n",
    "- insta\n",
    "\n",
    "\n",
    "Knowledge\n",
    "skillshare\n",
    "masterclass\n",
    "brillant\n",
    "curiosity stream "
   ]
  },
  {
   "cell_type": "markdown",
   "id": "0ce43101-2165-4d43-b680-ec8062be06aa",
   "metadata": {},
   "source": [
    "### Future plans"
   ]
  },
  {
   "cell_type": "markdown",
   "id": "99b99379-ca04-4d76-86fb-f7155f626f33",
   "metadata": {},
   "source": [
    "- decentralised cloud\n",
    "- keyboard website\n",
    "- custom car\n",
    "- buy house\n",
    "- ecommerise business\n",
    "- benedictine\n",
    "- solar farm\n",
    "- diamond mining\n",
    "- gold shop\n",
    "- shesha\n",
    "- mathgame - wizard 101\n",
    "- VR with speed tracking app and hand recognition\n",
    " - image net - A.I competition\n",
    "- drone business\n",
    "- electro and magnetic motor\n",
    "- nano motor (muscle)\n",
    "- uni electronics store\n",
    "- 3d metal printer\n",
    "- aquarium monitor/ blood test\n",
    "- cooling cup\n",
    "- smart seat\n",
    "- 3D mapping space\n",
    "- business tv series\n",
    "- magnitron - electron mapping\n",
    "- command line gpt\n",
    "- research papers to website"
   ]
  },
  {
   "cell_type": "code",
   "execution_count": null,
   "id": "80719a2a-6c48-465c-9178-fcc36833cea7",
   "metadata": {},
   "outputs": [],
   "source": []
  }
 ],
 "metadata": {
  "kernelspec": {
   "display_name": "python3",
   "language": "python",
   "name": "python3"
  }
 },
 "nbformat": 4,
 "nbformat_minor": 5
}
