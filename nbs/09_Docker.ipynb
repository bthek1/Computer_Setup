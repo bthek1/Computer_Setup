{
 "cells": [
  {
   "cell_type": "markdown",
   "id": "4e56875a-f6b7-4f9c-a488-c482db6728d9",
   "metadata": {},
   "source": [
    "---\n",
    "# Docker\n",
    "\n",
    "> Fast AI in Docker Container\n",
    "- key1: value1\n",
    "- key2: value2\n",
    "- categories: [c1, c2]\n",
    "\n",
    "\n",
    "format:\n",
    "  html:\n",
    "    theme:\n",
    "      light: flatly\n",
    "      dark: darkly\n",
    "    mermaid:\n",
    "      theme: forest\n",
    "\n",
    "\n",
    "---"
   ]
  },
  {
   "cell_type": "code",
   "execution_count": null,
   "id": "80719a2a-6c48-465c-9178-fcc36833cea7",
   "metadata": {},
   "outputs": [],
   "source": []
  }
 ],
 "metadata": {
  "kernelspec": {
   "display_name": "python3",
   "language": "python",
   "name": "python3"
  }
 },
 "nbformat": 4,
 "nbformat_minor": 5
}
