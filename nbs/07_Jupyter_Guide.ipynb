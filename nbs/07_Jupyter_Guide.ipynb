{
 "cells": [
  {
   "cell_type": "markdown",
   "id": "8e7a9b10-a080-4d6f-8cc5-afff2854bba8",
   "metadata": {},
   "source": [
    "---\n",
    "# Jupyter Guide\n",
    "\n",
    "> Jupyter Guide\n",
    "\n",
    "- key1: value1\n",
    "- key2: value2\n",
    "- categories: [c1, c2]\n",
    "\n",
    "- skip_showdoc: true\n",
    "- skip_exec: true\n",
    "  \n",
    "format:\n",
    "  html:\n",
    "    mermaid:\n",
    "      theme: forest\n",
    "\n",
    "\n",
    "---"
   ]
  },
  {
   "cell_type": "markdown",
   "id": "9d9966c6-43fb-470c-9cb2-cdd98536d3f7",
   "metadata": {},
   "source": [
    "## Customize Jupyter Labs"
   ]
  },
  {
   "cell_type": "markdown",
   "id": "b41fc202-2346-40e8-bc62-c2c6940db96b",
   "metadata": {},
   "source": [
    "```bash\n",
    "pip install jupyterthemes\n",
    "```"
   ]
  },
  {
   "cell_type": "code",
   "execution_count": null,
   "id": "91daef87-beca-4363-a34b-a58772936b7c",
   "metadata": {},
   "outputs": [
    {
     "name": "stdout",
     "output_type": "stream",
     "text": [
      "Available Themes: \n",
      "   chesterish\n",
      "   grade3\n",
      "   gruvboxd\n",
      "   gruvboxl\n",
      "   monokai\n",
      "   oceans16\n",
      "   onedork\n",
      "   solarizedd\n",
      "   solarizedl\n"
     ]
    }
   ],
   "source": [
    "!jt -l"
   ]
  },
  {
   "cell_type": "markdown",
   "id": "e2c5a209-68b9-4644-877f-a62c020c200a",
   "metadata": {},
   "source": [
    "### jupyter lab config"
   ]
  },
  {
   "cell_type": "markdown",
   "id": "1d0345f2-dd13-4bf7-94a5-4347be87ad55",
   "metadata": {},
   "source": [
    "```bash\n",
    "jupyter notebook --generate-config\n",
    "\n",
    "\n",
    "```"
   ]
  },
  {
   "cell_type": "markdown",
   "id": "3bc8f7d2-2de3-47c3-98cc-e78e244d1645",
   "metadata": {},
   "source": [
    "To view jupyter config\n",
    "```bash\n",
    "cat ~/.jupyter/jupyter_notebook_config.py\n",
    "sudo vim ~/.jupyter/jupyter_notebook_config.py\n",
    "```"
   ]
  },
  {
   "cell_type": "markdown",
   "id": "adcd2d06-5266-41eb-a19b-0a50508cdee9",
   "metadata": {},
   "source": [
    "    c.NotebookApp.ip = '0.0.0.0'\n",
    "    c.NotebookApp.port = 8888\n",
    "    c.NotebookApp.open_browser = False"
   ]
  },
  {
   "cell_type": "markdown",
   "id": "3b5e3d8a-aa4c-4761-84fd-fc033e856f3b",
   "metadata": {},
   "source": [
    "### Jupyter Lab Extensions "
   ]
  },
  {
   "cell_type": "markdown",
   "id": "ca6b99a5-0c0f-4d46-80e6-8a9fc1cf57e8",
   "metadata": {},
   "source": [
    "- jupyter-notebook-lab-extension\n",
    "- jupyter-widgets-jupyterlab-manager\n",
    "- jupyterlab-code-formatter\n",
    "- jupyterlab-contrib-spellchecker\n",
    "- jupyterlab-git\n",
    "- jupyterlab-latex\n",
    "- jupyterlab-quarto\n",
    "- jupyterlab-pygments\n",
    "- nbdime-jupyterlab\n",
    "- "
   ]
  },
  {
   "cell_type": "markdown",
   "id": "14713051-c56a-48a2-b1f3-36b48db3f103",
   "metadata": {},
   "source": [
    "## Other Important Considerations"
   ]
  },
  {
   "cell_type": "markdown",
   "id": "48ecc02c-4c29-4c50-bc1b-c8701a63a3fd",
   "metadata": {},
   "source": [
    "There are a couple of shortcuts you must know about which we use **all** the time (always in **Command Mode**). These are:\n",
    "\n",
    "- <kbd>Shift</kbd>+<kbd>Enter</kbd>: Run the code or markdown on a cell\n",
    "- <kbd>Up Arrow</kbd> / <kbd>Down Arrow</kbd>: Toggle across cells\n",
    "- <kbd>b</kbd>: Create new cell underneath this one\n",
    "- <kbd>0</kbd>+<kbd>0</kbd>: Reset Kernel"
   ]
  },
  {
   "cell_type": "markdown",
   "id": "e4b393f2-c700-45a3-b6be-4b9fd3be9512",
   "metadata": {},
   "source": [
    "You can find more shortcuts by typing <kbd>h</kbd> (for help).\n",
    "\n",
    "You may need to use shell commands, like `ls` or `cat` in a Jupyter Notebook environment. That is very easy to do: just type `!` before you shell command, like so:"
   ]
  },
  {
   "cell_type": "code",
   "execution_count": null,
   "id": "9dcf502d-9fcd-4412-beb4-1a3656049cd8",
   "metadata": {},
   "outputs": [
    {
     "name": "stdout",
     "output_type": "stream",
     "text": [
      "ls: invalid option -- 'e'\n",
      "Try 'ls --help' for more information.\n"
     ]
    }
   ],
   "source": [
    "ls -hidden"
   ]
  },
  {
   "cell_type": "markdown",
   "id": "accaf7b7-261a-4dc9-8985-d0fca43008f0",
   "metadata": {},
   "source": [
    "## Markdown Formatting"
   ]
  },
  {
   "cell_type": "markdown",
   "id": "ad13be4a-7cce-454b-b28a-9924318fbcb9",
   "metadata": {},
   "source": [
    "### Images"
   ]
  },
  {
   "cell_type": "markdown",
   "id": "d6469eed-1651-418a-8179-9cabf5ebdbd2",
   "metadata": {},
   "source": [
    "    ![title](panda.jpg)\n",
    "![title](Data/panda.jpg)"
   ]
  },
  {
   "cell_type": "markdown",
   "id": "a61b3bdc-ea97-4063-83b8-5804e1ed2b56",
   "metadata": {},
   "source": [
    "### Italics, Bold, Strikethrough, Inline, Blockquotes and Links"
   ]
  },
  {
   "cell_type": "markdown",
   "id": "9083ff5f-2e31-461e-bb74-ec7c05325a01",
   "metadata": {},
   "source": [
    "The five most important concepts to format your code appropriately when using Markdown are:\n",
    "    \n",
    "- *Italics*:: Surround your text with \\_ or \\*.\n",
    "\n",
    "- **Bold**:: Surround your text with \\__ or \\**.\n",
    "\n",
    "- `inline`:: Surround your text with \\`.\n",
    "\n",
    "- blockquote:: Place \\> before your text.\n",
    "\n",
    "- superscript^2^ / subscript~2~\n",
    "\n",
    "- [Links](http://course-v3.fast.ai/):: Surround the text you want to link with \\[\\] and place the link adjacent to the text, surrounded with ()."
   ]
  },
  {
   "cell_type": "markdown",
   "id": "b28cdd69-ef89-4076-bbd0-015f2065879b",
   "metadata": {},
   "source": [
    "### Headings"
   ]
  },
  {
   "cell_type": "markdown",
   "id": "e07728a6-60b9-43f7-97de-d9f113f72ab7",
   "metadata": {},
   "source": [
    "(# is level one, ## is level two, ### is level three and #### is level four)"
   ]
  },
  {
   "cell_type": "markdown",
   "id": "a3bcd24e-8bfe-4551-9984-0d10759b06f1",
   "metadata": {},
   "source": [
    "### Lists"
   ]
  },
  {
   "cell_type": "markdown",
   "id": "f13b68a5-6689-48db-a646-7549ebf48761",
   "metadata": {},
   "source": [
    "There are three types of lists in markdown.\n",
    "\n",
    "Ordered list:\n",
    "\n",
    "1. Step 1\n",
    "    2. Step 1B\n",
    "3. Step 3\n",
    "\n",
    "Unordered list\n",
    "\n",
    "* learning rate\n",
    "- cycle length\n",
    "+ weight decay\n",
    "\n",
    "Task list\n",
    "\n",
    "- [x] Learn Jupyter Notebooks\n",
    "    - [x] Writing\n",
    "    - [x] Modes\n",
    "    - [x] Other Considerations\n",
    "- [ ] Change the world\n",
    "\n",
    "\n",
    "\n",
    "In the notebook, double click on them to see how they are built! \n"
   ]
  },
  {
   "cell_type": "markdown",
   "id": "58fdc746-71a0-41e0-8ca0-8bdf813de70c",
   "metadata": {},
   "source": [
    "## Tables"
   ]
  },
  {
   "cell_type": "markdown",
   "id": "a6147b41-76c4-47f2-9b7c-fe9728ed644b",
   "metadata": {},
   "source": [
    "::: {#tbl-panel layout-ncol=2}\n",
    "| Col1 | Col2 | Col3 |\n",
    "|------|------|------|\n",
    "| A    | B    | C    |\n",
    "| E    | F    | G    |\n",
    "| A    | G    | G    |\n",
    "\n",
    ": First Table {#tbl-first}\n",
    "\n",
    "| Col1 | Col2 | Col3 |\n",
    "|------|------|------|\n",
    "| A    | B    | C    |\n",
    "| E    | F    | G    |\n",
    "| A    | G    | G    |\n",
    "\n",
    ": Second Table {#tbl-second}\n",
    "\n",
    "Main Caption\n",
    ":::"
   ]
  },
  {
   "cell_type": "markdown",
   "id": "7def3607-c6db-4801-a80b-e011b66ba432",
   "metadata": {},
   "source": [
    "\n",
    "+-----------+-----------+--------------------+\n",
    "| Fruit     | Price     | Advantages         |\n",
    "+===========+===========+====================+\n",
    "| Bananas   | $1.34     | - built-in wrapper |\n",
    "|           |           | - bright color     |\n",
    "+-----------+-----------+--------------------+\n",
    "| Oranges   | $2.10     | - cures scurvy     |\n",
    "|           |           | - tasty            |\n",
    "+-----------+-----------+--------------------+\n",
    "\n",
    ": Sample grid table.\n"
   ]
  },
  {
   "cell_type": "markdown",
   "id": "2e07492c-7582-4d58-aeaf-12e6d2983e66",
   "metadata": {},
   "source": [
    "| Right | Left | Default | Center |\n",
    "|------:|:-----|---------|:------:|\n",
    "|   12  |  12  |    12   |    12  |\n",
    "|  123  |  123 |   123   |   123  |\n",
    "|    1  |    1 |     1   |     1  |\n",
    "\n",
    ": Fruit prices {.striped .hover}"
   ]
  },
  {
   "cell_type": "markdown",
   "id": "3fb5a84b-aa08-431c-8c17-c412a14dbc19",
   "metadata": {},
   "source": [
    "| fruit  | price  |\n",
    "|--------|--------|\n",
    "| apple  | 2.05   |\n",
    "| pear   | 1.37   |\n",
    "| orange | 3.09   |\n",
    "\n",
    ": Fruit prices {tbl-colwidths=\"[75,25]\"}"
   ]
  },
  {
   "cell_type": "code",
   "execution_count": null,
   "id": "1ba9afac-4a6c-48fb-b1ee-c3acd723bf59",
   "metadata": {},
   "outputs": [],
   "source": [
    "#|eval: false\n",
    "#|code-fold: true\n",
    "\n",
    "from graphviz import Digraph\n",
    "\n",
    "def create_nodes(graph, items, colours):\n",
    "    with graph.subgraph(name=f'{items[0]}') as c:\n",
    "        c.attr(style='filled', fillcolor=colours[0], label=items[0][7:], rank = 'same', fontcolor=colours[2])\n",
    "        c.node_attr.update(style='filled', fillcolor=colours[1], shape='box', fontcolor=colours[2])\n",
    "        for data in items[1:]: c.node(f'{data}', f'{data}')\n",
    "        \n",
    "def create_edges(graph, Begin, End, colour):\n",
    "    for beginning in Begin[1:]: \n",
    "        for towards in End[1:]: graph.edge(f'{beginning}', f'{towards}', len='5.00', color = colour[4])\n",
    "    "
   ]
  },
  {
   "cell_type": "code",
   "execution_count": null,
   "id": "757c550d-e3f1-4cf3-a4ff-d47b2860f4f1",
   "metadata": {},
   "outputs": [
    {
     "data": {
      "text/plain": [
       "'Data/test.svg'"
      ]
     },
     "execution_count": null,
     "metadata": {},
     "output_type": "execute_result"
    }
   ],
   "source": [
    "#|eval: false\n",
    "#|code-fold: true\n",
    "\n",
    "primary = '#FFFFFF'\n",
    "secondary = '#F6AE2D'\n",
    "third = '#002855'\n",
    "bg = '#F1FAF0'\n",
    "fifth = '#002855'\n",
    "\n",
    "colours = [primary, secondary, third, bg, fifth]\n",
    "\n",
    "Buckets = ['clusterBuckets', 'Energy_1hour_integral', 'Power_5min_avg', 'Weather']\n",
    "\n",
    "Process = ['clusterProcess', 'MinMaxScalar', 'Seasonal_decompose']\n",
    "\n",
    "Stats = ['clusterStats', 'AutoARIMA', 'HaltWinter', 'MSTL', 'FFT', 'SeasonNaive']\n",
    "\n",
    "ML = ['clusterML', 'LGBMRegressor', 'XGBRegressor', 'LinearRegression']\n",
    "\n",
    "Neural = ['clusterNeural', 'NBEATS', 'NHITS', 'MLP']\n",
    "          \n",
    "Evaluate = ['clusterEvaluate', 'mase', 'mae', 'mape', 'rmse', 'smape']\n",
    "\n",
    "Nodes = [Buckets, Process, Stats, ML, Neural, Evaluate]\n",
    "# Create a directed graph\n",
    "graph = Digraph(filename = 'test', directory = './Data', engine = 'dot')\n",
    "graph.attr('graph', style='filled', bgcolor=colours[3])\n",
    "graph.graph_attr['rankdir'] = 'LR'\n",
    "\n",
    "\n",
    "for items in Nodes:\n",
    "    create_nodes(graph, items, colours)\n",
    "\n",
    "\n",
    "# Add edges  \n",
    "create_edges(graph, Buckets, Process, colours)\n",
    "\n",
    "create_edges(graph, Process, Stats, colours)\n",
    "create_edges(graph, Process, ML, colours)\n",
    "create_edges(graph, Process, Neural, colours)\n",
    "\n",
    "create_edges(graph, Stats, Evaluate, colours)\n",
    "create_edges(graph, ML, Evaluate, colours)\n",
    "create_edges(graph, Neural, Evaluate, colours)\n",
    "\n",
    "# Save the graph as a PNG file\n",
    "graph.render( format='svg', cleanup=False)"
   ]
  },
  {
   "cell_type": "markdown",
   "id": "80899a5e-9010-4e3e-8741-033162fd045d",
   "metadata": {},
   "source": [
    "![title](Data/test.svg)"
   ]
  },
  {
   "cell_type": "code",
   "execution_count": null,
   "id": "bcd77718-b6a6-4839-b327-64cb57cdfbcb",
   "metadata": {},
   "outputs": [],
   "source": [
    "#|eval: false\n",
    "#|code-fold: true\n",
    "\n",
    "from graphviz import Digraph\n",
    "import graphviz"
   ]
  },
  {
   "cell_type": "code",
   "execution_count": null,
   "id": "2083bff8-de58-4aae-a00e-6dd890baab1b",
   "metadata": {},
   "outputs": [
    {
     "data": {
      "image/svg+xml": [
       "<?xml version=\"1.0\" encoding=\"UTF-8\" standalone=\"no\"?>\n",
       "<!DOCTYPE svg PUBLIC \"-//W3C//DTD SVG 1.1//EN\"\n",
       " \"http://www.w3.org/Graphics/SVG/1.1/DTD/svg11.dtd\">\n",
       "<!-- Generated by graphviz version 2.43.0 (0)\n",
       " -->\n",
       "<!-- Title: A Pages: 1 -->\n",
       "<svg width=\"764pt\" height=\"728pt\"\n",
       " viewBox=\"0.00 0.00 764.00 728.00\" xmlns=\"http://www.w3.org/2000/svg\" xmlns:xlink=\"http://www.w3.org/1999/xlink\">\n",
       "<g id=\"graph0\" class=\"graph\" transform=\"scale(1 1) rotate(0) translate(4 724)\">\n",
       "<title>A</title>\n",
       "<polygon fill=\"white\" stroke=\"transparent\" points=\"-4,4 -4,-724 760,-724 760,4 -4,4\"/>\n",
       "<!-- Buckets -->\n",
       "<g id=\"node1\" class=\"node\">\n",
       "<title>Buckets</title>\n",
       "<path fill=\"#fdfcdc\" stroke=\"black\" stroke-width=\"0\" d=\"M174,-414C174,-414 12,-414 12,-414 6,-414 0,-408 0,-402 0,-402 0,-228 0,-228 0,-222 6,-216 12,-216 12,-216 174,-216 174,-216 180,-216 186,-222 186,-228 186,-228 186,-402 186,-402 186,-408 180,-414 174,-414\"/>\n",
       "<text text-anchor=\"start\" x=\"68.5\" y=\"-378.8\" font-family=\"Helvetica,Arial,sans-serif\" font-size=\"14.00\" fill=\"#003049\">Buckets</text>\n",
       "<path fill=\"#fcbf49\" stroke=\"transparent\" d=\"M29.67,-320C29.67,-320 156.33,-320 156.33,-320 162.17,-320 168,-325.83 168,-331.67 168,-331.67 168,-343.33 168,-343.33 168,-349.17 162.17,-355 156.33,-355 156.33,-355 29.67,-355 29.67,-355 23.83,-355 18,-349.17 18,-343.33 18,-343.33 18,-331.67 18,-331.67 18,-325.83 23.83,-320 29.67,-320\"/>\n",
       "<text text-anchor=\"start\" x=\"67\" y=\"-333.8\" font-family=\"Helvetica,Arial,sans-serif\" font-size=\"14.00\" fill=\"#003049\">Weather</text>\n",
       "<path fill=\"#fcbf49\" stroke=\"transparent\" d=\"M29.67,-275C29.67,-275 156.33,-275 156.33,-275 162.17,-275 168,-280.83 168,-286.67 168,-286.67 168,-298.33 168,-298.33 168,-304.17 162.17,-310 156.33,-310 156.33,-310 29.67,-310 29.67,-310 23.83,-310 18,-304.17 18,-298.33 18,-298.33 18,-286.67 18,-286.67 18,-280.83 23.83,-275 29.67,-275\"/>\n",
       "<text text-anchor=\"start\" x=\"28\" y=\"-288.8\" font-family=\"Helvetica,Arial,sans-serif\" font-size=\"14.00\" fill=\"#003049\">Energy 1hour integral</text>\n",
       "<path fill=\"#fcbf49\" stroke=\"transparent\" d=\"M29.67,-230C29.67,-230 156.33,-230 156.33,-230 162.17,-230 168,-235.83 168,-241.67 168,-241.67 168,-253.33 168,-253.33 168,-259.17 162.17,-265 156.33,-265 156.33,-265 29.67,-265 29.67,-265 23.83,-265 18,-259.17 18,-253.33 18,-253.33 18,-241.67 18,-241.67 18,-235.83 23.83,-230 29.67,-230\"/>\n",
       "<text text-anchor=\"start\" x=\"42\" y=\"-243.8\" font-family=\"Helvetica,Arial,sans-serif\" font-size=\"14.00\" fill=\"#003049\">Power 5 min avg</text>\n",
       "</g>\n",
       "<!-- Process -->\n",
       "<g id=\"node2\" class=\"node\">\n",
       "<title>Process</title>\n",
       "<path fill=\"#fdfcdc\" stroke=\"black\" stroke-width=\"0\" d=\"M401,-436.5C401,-436.5 234,-436.5 234,-436.5 228,-436.5 222,-430.5 222,-424.5 222,-424.5 222,-205.5 222,-205.5 222,-199.5 228,-193.5 234,-193.5 234,-193.5 401,-193.5 401,-193.5 407,-193.5 413,-199.5 413,-205.5 413,-205.5 413,-424.5 413,-424.5 413,-430.5 407,-436.5 401,-436.5\"/>\n",
       "<text text-anchor=\"start\" x=\"293.5\" y=\"-400.8\" font-family=\"Helvetica,Arial,sans-serif\" font-size=\"14.00\" fill=\"#003049\">Process</text>\n",
       "<path fill=\"#fcbf49\" stroke=\"transparent\" d=\"M252.17,-342C252.17,-342 383.83,-342 383.83,-342 389.67,-342 395.5,-347.83 395.5,-353.67 395.5,-353.67 395.5,-365.33 395.5,-365.33 395.5,-371.17 389.67,-377 383.83,-377 383.83,-377 252.17,-377 252.17,-377 246.33,-377 240.5,-371.17 240.5,-365.33 240.5,-365.33 240.5,-353.67 240.5,-353.67 240.5,-347.83 246.33,-342 252.17,-342\"/>\n",
       "<text text-anchor=\"start\" x=\"274\" y=\"-355.8\" font-family=\"Helvetica,Arial,sans-serif\" font-size=\"14.00\" fill=\"#003049\">MinMaxScalar</text>\n",
       "<path fill=\"#fcbf49\" stroke=\"transparent\" d=\"M252.17,-297C252.17,-297 383.83,-297 383.83,-297 389.67,-297 395.5,-302.83 395.5,-308.67 395.5,-308.67 395.5,-320.33 395.5,-320.33 395.5,-326.17 389.67,-332 383.83,-332 383.83,-332 252.17,-332 252.17,-332 246.33,-332 240.5,-326.17 240.5,-320.33 240.5,-320.33 240.5,-308.67 240.5,-308.67 240.5,-302.83 246.33,-297 252.17,-297\"/>\n",
       "<text text-anchor=\"start\" x=\"250.5\" y=\"-310.8\" font-family=\"Helvetica,Arial,sans-serif\" font-size=\"14.00\" fill=\"#003049\">Seasonal_decompose</text>\n",
       "<path fill=\"#fcbf49\" stroke=\"transparent\" d=\"M252.17,-252C252.17,-252 383.83,-252 383.83,-252 389.67,-252 395.5,-257.83 395.5,-263.67 395.5,-263.67 395.5,-275.33 395.5,-275.33 395.5,-281.17 389.67,-287 383.83,-287 383.83,-287 252.17,-287 252.17,-287 246.33,-287 240.5,-281.17 240.5,-275.33 240.5,-275.33 240.5,-263.67 240.5,-263.67 240.5,-257.83 246.33,-252 252.17,-252\"/>\n",
       "<text text-anchor=\"start\" x=\"305\" y=\"-265.8\" font-family=\"Helvetica,Arial,sans-serif\" font-size=\"14.00\" fill=\"#003049\">FFT</text>\n",
       "<path fill=\"#fcbf49\" stroke=\"transparent\" d=\"M252.17,-207C252.17,-207 383.83,-207 383.83,-207 389.67,-207 395.5,-212.83 395.5,-218.67 395.5,-218.67 395.5,-230.33 395.5,-230.33 395.5,-236.17 389.67,-242 383.83,-242 383.83,-242 252.17,-242 252.17,-242 246.33,-242 240.5,-236.17 240.5,-230.33 240.5,-230.33 240.5,-218.67 240.5,-218.67 240.5,-212.83 246.33,-207 252.17,-207\"/>\n",
       "<text text-anchor=\"start\" x=\"258.5\" y=\"-220.8\" font-family=\"Helvetica,Arial,sans-serif\" font-size=\"14.00\" fill=\"#003049\">Variable Correlation</text>\n",
       "</g>\n",
       "<!-- Buckets&#45;&gt;Process -->\n",
       "<g id=\"edge1\" class=\"edge\">\n",
       "<title>Buckets&#45;&gt;Process</title>\n",
       "<path fill=\"none\" stroke=\"#003049\" d=\"M186.11,-315C194.61,-315 203.27,-315 211.88,-315\"/>\n",
       "<polygon fill=\"#003049\" stroke=\"#003049\" points=\"221.95,-315 211.95,-319.5 216.95,-315 211.95,-315 211.95,-315 211.95,-315 216.95,-315 211.95,-310.5 221.95,-315 221.95,-315\"/>\n",
       "</g>\n",
       "<!-- Stats -->\n",
       "<g id=\"node3\" class=\"node\">\n",
       "<title>Stats</title>\n",
       "<path fill=\"#fdfcdc\" stroke=\"black\" stroke-width=\"0\" d=\"M586.5,-720C586.5,-720 473.5,-720 473.5,-720 467.5,-720 461.5,-714 461.5,-708 461.5,-708 461.5,-444 461.5,-444 461.5,-438 467.5,-432 473.5,-432 473.5,-432 586.5,-432 586.5,-432 592.5,-432 598.5,-438 598.5,-444 598.5,-444 598.5,-708 598.5,-708 598.5,-714 592.5,-720 586.5,-720\"/>\n",
       "<text text-anchor=\"start\" x=\"515\" y=\"-684.8\" font-family=\"Helvetica,Arial,sans-serif\" font-size=\"14.00\" fill=\"#003049\">Stats</text>\n",
       "<path fill=\"#fcbf49\" stroke=\"transparent\" d=\"M491.67,-626C491.67,-626 569.33,-626 569.33,-626 575.17,-626 581,-631.83 581,-637.67 581,-637.67 581,-649.33 581,-649.33 581,-655.17 575.17,-661 569.33,-661 569.33,-661 491.67,-661 491.67,-661 485.83,-661 480,-655.17 480,-649.33 480,-649.33 480,-637.67 480,-637.67 480,-631.83 485.83,-626 491.67,-626\"/>\n",
       "<text text-anchor=\"start\" x=\"517.5\" y=\"-639.8\" font-family=\"Helvetica,Arial,sans-serif\" font-size=\"14.00\" fill=\"#003049\">FFT</text>\n",
       "<path fill=\"#fcbf49\" stroke=\"transparent\" d=\"M491.67,-581C491.67,-581 569.33,-581 569.33,-581 575.17,-581 581,-586.83 581,-592.67 581,-592.67 581,-604.33 581,-604.33 581,-610.17 575.17,-616 569.33,-616 569.33,-616 491.67,-616 491.67,-616 485.83,-616 480,-610.17 480,-604.33 480,-604.33 480,-592.67 480,-592.67 480,-586.83 485.83,-581 491.67,-581\"/>\n",
       "<text text-anchor=\"start\" x=\"490\" y=\"-594.8\" font-family=\"Helvetica,Arial,sans-serif\" font-size=\"14.00\" fill=\"#003049\">SeasonNaive</text>\n",
       "<path fill=\"#fcbf49\" stroke=\"transparent\" d=\"M491.67,-536C491.67,-536 569.33,-536 569.33,-536 575.17,-536 581,-541.83 581,-547.67 581,-547.67 581,-559.33 581,-559.33 581,-565.17 575.17,-571 569.33,-571 569.33,-571 491.67,-571 491.67,-571 485.83,-571 480,-565.17 480,-559.33 480,-559.33 480,-547.67 480,-547.67 480,-541.83 485.83,-536 491.67,-536\"/>\n",
       "<text text-anchor=\"start\" x=\"495\" y=\"-549.8\" font-family=\"Helvetica,Arial,sans-serif\" font-size=\"14.00\" fill=\"#003049\">AutoARIMA</text>\n",
       "<path fill=\"#fcbf49\" stroke=\"transparent\" d=\"M491.67,-491C491.67,-491 569.33,-491 569.33,-491 575.17,-491 581,-496.83 581,-502.67 581,-502.67 581,-514.33 581,-514.33 581,-520.17 575.17,-526 569.33,-526 569.33,-526 491.67,-526 491.67,-526 485.83,-526 480,-520.17 480,-514.33 480,-514.33 480,-502.67 480,-502.67 480,-496.83 485.83,-491 491.67,-491\"/>\n",
       "<text text-anchor=\"start\" x=\"498.5\" y=\"-504.8\" font-family=\"Helvetica,Arial,sans-serif\" font-size=\"14.00\" fill=\"#003049\">HaltWinter</text>\n",
       "<path fill=\"#fcbf49\" stroke=\"transparent\" d=\"M491.67,-446C491.67,-446 569.33,-446 569.33,-446 575.17,-446 581,-451.83 581,-457.67 581,-457.67 581,-469.33 581,-469.33 581,-475.17 575.17,-481 569.33,-481 569.33,-481 491.67,-481 491.67,-481 485.83,-481 480,-475.17 480,-469.33 480,-469.33 480,-457.67 480,-457.67 480,-451.83 485.83,-446 491.67,-446\"/>\n",
       "<text text-anchor=\"start\" x=\"512\" y=\"-459.8\" font-family=\"Helvetica,Arial,sans-serif\" font-size=\"14.00\" fill=\"#003049\">MSTL</text>\n",
       "</g>\n",
       "<!-- Process&#45;&gt;Stats -->\n",
       "<g id=\"edge2\" class=\"edge\">\n",
       "<title>Process&#45;&gt;Stats</title>\n",
       "<path fill=\"none\" stroke=\"#003049\" d=\"M413.28,-432.52C427.25,-449.85 441.48,-467.48 454.95,-484.18\"/>\n",
       "<polygon fill=\"#003049\" stroke=\"#003049\" points=\"461.5,-492.3 451.72,-487.34 458.36,-488.41 455.22,-484.52 455.22,-484.52 455.22,-484.52 458.36,-488.41 458.72,-481.69 461.5,-492.3 461.5,-492.3\"/>\n",
       "</g>\n",
       "<!-- ML -->\n",
       "<g id=\"node4\" class=\"node\">\n",
       "<title>ML</title>\n",
       "<path fill=\"#fdfcdc\" stroke=\"black\" stroke-width=\"0\" d=\"M599,-414C599,-414 461,-414 461,-414 455,-414 449,-408 449,-402 449,-402 449,-228 449,-228 449,-222 455,-216 461,-216 461,-216 599,-216 599,-216 605,-216 611,-222 611,-228 611,-228 611,-402 611,-402 611,-408 605,-414 599,-414\"/>\n",
       "<text text-anchor=\"start\" x=\"520\" y=\"-378.8\" font-family=\"Helvetica,Arial,sans-serif\" font-size=\"14.00\" fill=\"#003049\">ML</text>\n",
       "<path fill=\"#fcbf49\" stroke=\"transparent\" d=\"M478.67,-320C478.67,-320 581.33,-320 581.33,-320 587.17,-320 593,-325.83 593,-331.67 593,-331.67 593,-343.33 593,-343.33 593,-349.17 587.17,-355 581.33,-355 581.33,-355 478.67,-355 478.67,-355 472.83,-355 467,-349.17 467,-343.33 467,-343.33 467,-331.67 467,-331.67 467,-325.83 472.83,-320 478.67,-320\"/>\n",
       "<text text-anchor=\"start\" x=\"478\" y=\"-333.8\" font-family=\"Helvetica,Arial,sans-serif\" font-size=\"14.00\" fill=\"#003049\">Linear Regressor</text>\n",
       "<path fill=\"#fcbf49\" stroke=\"transparent\" d=\"M478.67,-275C478.67,-275 581.33,-275 581.33,-275 587.17,-275 593,-280.83 593,-286.67 593,-286.67 593,-298.33 593,-298.33 593,-304.17 587.17,-310 581.33,-310 581.33,-310 478.67,-310 478.67,-310 472.83,-310 467,-304.17 467,-298.33 467,-298.33 467,-286.67 467,-286.67 467,-280.83 472.83,-275 478.67,-275\"/>\n",
       "<text text-anchor=\"start\" x=\"477\" y=\"-288.8\" font-family=\"Helvetica,Arial,sans-serif\" font-size=\"14.00\" fill=\"#003049\">LGBM Regressor</text>\n",
       "<path fill=\"#fcbf49\" stroke=\"transparent\" d=\"M478.67,-230C478.67,-230 581.33,-230 581.33,-230 587.17,-230 593,-235.83 593,-241.67 593,-241.67 593,-253.33 593,-253.33 593,-259.17 587.17,-265 581.33,-265 581.33,-265 478.67,-265 478.67,-265 472.83,-265 467,-259.17 467,-253.33 467,-253.33 467,-241.67 467,-241.67 467,-235.83 472.83,-230 478.67,-230\"/>\n",
       "<text text-anchor=\"start\" x=\"482\" y=\"-243.8\" font-family=\"Helvetica,Arial,sans-serif\" font-size=\"14.00\" fill=\"#003049\">XGB Regressor</text>\n",
       "</g>\n",
       "<!-- Process&#45;&gt;ML -->\n",
       "<g id=\"edge3\" class=\"edge\">\n",
       "<title>Process&#45;&gt;ML</title>\n",
       "<path fill=\"none\" stroke=\"#003049\" d=\"M413.28,-315C421.74,-315 430.29,-315 438.7,-315\"/>\n",
       "<polygon fill=\"#003049\" stroke=\"#003049\" points=\"448.89,-315 438.89,-319.5 443.89,-315 438.89,-315 438.89,-315 438.89,-315 443.89,-315 438.89,-310.5 448.89,-315 448.89,-315\"/>\n",
       "</g>\n",
       "<!-- Neural -->\n",
       "<g id=\"node5\" class=\"node\">\n",
       "<title>Neural</title>\n",
       "<path fill=\"#fdfcdc\" stroke=\"black\" stroke-width=\"0\" d=\"M573,-198C573,-198 487,-198 487,-198 481,-198 475,-192 475,-186 475,-186 475,-12 475,-12 475,-6 481,0 487,0 487,0 573,0 573,0 579,0 585,-6 585,-12 585,-12 585,-186 585,-186 585,-192 579,-198 573,-198\"/>\n",
       "<text text-anchor=\"start\" x=\"510\" y=\"-162.8\" font-family=\"Helvetica,Arial,sans-serif\" font-size=\"14.00\" fill=\"#003049\">Neural</text>\n",
       "<path fill=\"#fcbf49\" stroke=\"transparent\" d=\"M504.67,-104C504.67,-104 555.33,-104 555.33,-104 561.17,-104 567,-109.83 567,-115.67 567,-115.67 567,-127.33 567,-127.33 567,-133.17 561.17,-139 555.33,-139 555.33,-139 504.67,-139 504.67,-139 498.83,-139 493,-133.17 493,-127.33 493,-127.33 493,-115.67 493,-115.67 493,-109.83 498.83,-104 504.67,-104\"/>\n",
       "<text text-anchor=\"start\" x=\"515.5\" y=\"-117.8\" font-family=\"Helvetica,Arial,sans-serif\" font-size=\"14.00\" fill=\"#003049\">MLP</text>\n",
       "<path fill=\"#fcbf49\" stroke=\"transparent\" d=\"M504.67,-59C504.67,-59 555.33,-59 555.33,-59 561.17,-59 567,-64.83 567,-70.67 567,-70.67 567,-82.33 567,-82.33 567,-88.17 561.17,-94 555.33,-94 555.33,-94 504.67,-94 504.67,-94 498.83,-94 493,-88.17 493,-82.33 493,-82.33 493,-70.67 493,-70.67 493,-64.83 498.83,-59 504.67,-59\"/>\n",
       "<text text-anchor=\"start\" x=\"503\" y=\"-72.8\" font-family=\"Helvetica,Arial,sans-serif\" font-size=\"14.00\" fill=\"#003049\">NBEATS</text>\n",
       "<path fill=\"#fcbf49\" stroke=\"transparent\" d=\"M504.67,-14C504.67,-14 555.33,-14 555.33,-14 561.17,-14 567,-19.83 567,-25.67 567,-25.67 567,-37.33 567,-37.33 567,-43.17 561.17,-49 555.33,-49 555.33,-49 504.67,-49 504.67,-49 498.83,-49 493,-43.17 493,-37.33 493,-37.33 493,-25.67 493,-25.67 493,-19.83 498.83,-14 504.67,-14\"/>\n",
       "<text text-anchor=\"start\" x=\"509.5\" y=\"-27.8\" font-family=\"Helvetica,Arial,sans-serif\" font-size=\"14.00\" fill=\"#003049\">NHITS</text>\n",
       "</g>\n",
       "<!-- Process&#45;&gt;Neural -->\n",
       "<g id=\"edge4\" class=\"edge\">\n",
       "<title>Process&#45;&gt;Neural</title>\n",
       "<path fill=\"none\" stroke=\"#003049\" d=\"M413.28,-217.74C431.71,-198.83 450.57,-179.48 467.57,-162.03\"/>\n",
       "<polygon fill=\"#003049\" stroke=\"#003049\" points=\"474.74,-154.68 470.98,-164.98 471.25,-158.26 467.76,-161.84 467.76,-161.84 467.76,-161.84 471.25,-158.26 464.54,-158.7 474.74,-154.68 474.74,-154.68\"/>\n",
       "</g>\n",
       "<!-- Evaluate -->\n",
       "<g id=\"node6\" class=\"node\">\n",
       "<title>Evaluate</title>\n",
       "<path fill=\"#fdfcdc\" stroke=\"black\" stroke-width=\"0\" d=\"M744,-459C744,-459 659,-459 659,-459 653,-459 647,-453 647,-447 647,-447 647,-183 647,-183 647,-177 653,-171 659,-171 659,-171 744,-171 744,-171 750,-171 756,-177 756,-183 756,-183 756,-447 756,-447 756,-453 750,-459 744,-459\"/>\n",
       "<text text-anchor=\"start\" x=\"675.5\" y=\"-423.8\" font-family=\"Helvetica,Arial,sans-serif\" font-size=\"14.00\" fill=\"#003049\">Evaluate</text>\n",
       "<path fill=\"#fcbf49\" stroke=\"transparent\" d=\"M677.17,-365C677.17,-365 726.83,-365 726.83,-365 732.67,-365 738.5,-370.83 738.5,-376.67 738.5,-376.67 738.5,-388.33 738.5,-388.33 738.5,-394.17 732.67,-400 726.83,-400 726.83,-400 677.17,-400 677.17,-400 671.33,-400 665.5,-394.17 665.5,-388.33 665.5,-388.33 665.5,-376.67 665.5,-376.67 665.5,-370.83 671.33,-365 677.17,-365\"/>\n",
       "<text text-anchor=\"start\" x=\"684.5\" y=\"-378.8\" font-family=\"Helvetica,Arial,sans-serif\" font-size=\"14.00\" fill=\"#003049\">mape</text>\n",
       "<path fill=\"#fcbf49\" stroke=\"transparent\" d=\"M677.17,-320C677.17,-320 726.83,-320 726.83,-320 732.67,-320 738.5,-325.83 738.5,-331.67 738.5,-331.67 738.5,-343.33 738.5,-343.33 738.5,-349.17 732.67,-355 726.83,-355 726.83,-355 677.17,-355 677.17,-355 671.33,-355 665.5,-349.17 665.5,-343.33 665.5,-343.33 665.5,-331.67 665.5,-331.67 665.5,-325.83 671.33,-320 677.17,-320\"/>\n",
       "<text text-anchor=\"start\" x=\"686.5\" y=\"-333.8\" font-family=\"Helvetica,Arial,sans-serif\" font-size=\"14.00\" fill=\"#003049\">rmse</text>\n",
       "<path fill=\"#fcbf49\" stroke=\"transparent\" d=\"M677.17,-275C677.17,-275 726.83,-275 726.83,-275 732.67,-275 738.5,-280.83 738.5,-286.67 738.5,-286.67 738.5,-298.33 738.5,-298.33 738.5,-304.17 732.67,-310 726.83,-310 726.83,-310 677.17,-310 677.17,-310 671.33,-310 665.5,-304.17 665.5,-298.33 665.5,-298.33 665.5,-286.67 665.5,-286.67 665.5,-280.83 671.33,-275 677.17,-275\"/>\n",
       "<text text-anchor=\"start\" x=\"681\" y=\"-288.8\" font-family=\"Helvetica,Arial,sans-serif\" font-size=\"14.00\" fill=\"#003049\">smape</text>\n",
       "<path fill=\"#fcbf49\" stroke=\"transparent\" d=\"M677.17,-230C677.17,-230 726.83,-230 726.83,-230 732.67,-230 738.5,-235.83 738.5,-241.67 738.5,-241.67 738.5,-253.33 738.5,-253.33 738.5,-259.17 732.67,-265 726.83,-265 726.83,-265 677.17,-265 677.17,-265 671.33,-265 665.5,-259.17 665.5,-253.33 665.5,-253.33 665.5,-241.67 665.5,-241.67 665.5,-235.83 671.33,-230 677.17,-230\"/>\n",
       "<text text-anchor=\"start\" x=\"685\" y=\"-243.8\" font-family=\"Helvetica,Arial,sans-serif\" font-size=\"14.00\" fill=\"#003049\">mase</text>\n",
       "<path fill=\"#fcbf49\" stroke=\"transparent\" d=\"M677.17,-185C677.17,-185 726.83,-185 726.83,-185 732.67,-185 738.5,-190.83 738.5,-196.67 738.5,-196.67 738.5,-208.33 738.5,-208.33 738.5,-214.17 732.67,-220 726.83,-220 726.83,-220 677.17,-220 677.17,-220 671.33,-220 665.5,-214.17 665.5,-208.33 665.5,-208.33 665.5,-196.67 665.5,-196.67 665.5,-190.83 671.33,-185 677.17,-185\"/>\n",
       "<text text-anchor=\"start\" x=\"688\" y=\"-198.8\" font-family=\"Helvetica,Arial,sans-serif\" font-size=\"14.00\" fill=\"#003049\">mae</text>\n",
       "</g>\n",
       "<!-- Stats&#45;&gt;Evaluate -->\n",
       "<g id=\"edge5\" class=\"edge\">\n",
       "<title>Stats&#45;&gt;Evaluate</title>\n",
       "<path fill=\"none\" stroke=\"#003049\" d=\"M598.72,-471.72C612.82,-450.01 627.58,-427.28 641.35,-406.09\"/>\n",
       "<polygon fill=\"#003049\" stroke=\"#003049\" points=\"646.97,-397.42 645.3,-408.26 644.25,-401.61 641.53,-405.81 641.53,-405.81 641.53,-405.81 644.25,-401.61 637.75,-403.36 646.97,-397.42 646.97,-397.42\"/>\n",
       "</g>\n",
       "<!-- ML&#45;&gt;Evaluate -->\n",
       "<g id=\"edge6\" class=\"edge\">\n",
       "<title>ML&#45;&gt;Evaluate</title>\n",
       "<path fill=\"none\" stroke=\"#003049\" d=\"M611.28,-315C619.71,-315 628.19,-315 636.39,-315\"/>\n",
       "<polygon fill=\"#003049\" stroke=\"#003049\" points=\"646.62,-315 636.62,-319.5 641.62,-315 636.62,-315 636.62,-315 636.62,-315 641.62,-315 636.62,-310.5 646.62,-315 646.62,-315\"/>\n",
       "</g>\n",
       "<!-- Neural&#45;&gt;Evaluate -->\n",
       "<g id=\"edge7\" class=\"edge\">\n",
       "<title>Neural&#45;&gt;Evaluate</title>\n",
       "<path fill=\"none\" stroke=\"#003049\" d=\"M585.1,-167.94C602.78,-190.47 622.51,-215.62 640.6,-238.66\"/>\n",
       "<polygon fill=\"#003049\" stroke=\"#003049\" points=\"646.92,-246.72 637.2,-241.63 643.83,-242.78 640.74,-238.85 640.74,-238.85 640.74,-238.85 643.83,-242.78 644.28,-236.07 646.92,-246.72 646.92,-246.72\"/>\n",
       "</g>\n",
       "</g>\n",
       "</svg>\n"
      ],
      "text/plain": [
       "<nbdevAuto.functions.graph>"
      ]
     },
     "execution_count": null,
     "metadata": {},
     "output_type": "execute_result"
    }
   ],
   "source": [
    "#|eval: false\n",
    "#|code-fold: true\n",
    "\n",
    "\n",
    "from nbdevAuto.functions import graph\n",
    "\n",
    "g = graph('A', filename='Data/plan', engine = 'dot')\n",
    "    \n",
    "\n",
    "\n",
    "buc = 'buc'\n",
    "\n",
    "g.node('Buckets',\n",
    "        f'''<<TABLE BORDER=\"0\" CELLBORDER=\"0\" CELLSPACING=\"10\" CELLPADDING=\"10\" STYLE = \"rounded\">\n",
    "          <TR><TD PORT=\"{buc}\" BORDER=\"0\" STYLE = \"rounded\" WIDTH=\"50\" >Buckets</TD></TR>\n",
    "          <TR><TD PORT=\"Weather\" STYLE = \"rounded\" BGCOLOR=\"{g.secondary}\" >Weather</TD></TR>\n",
    "          <TR><TD PORT=\"Energy\" STYLE = \"rounded\" BGCOLOR=\"{g.secondary}\" >Energy 1hour integral</TD></TR>\n",
    "          <TR><TD PORT=\"Power\" STYLE = \"rounded\" BGCOLOR=\"{g.secondary}\" >Power 5 min avg</TD></TR>\n",
    "        </TABLE>>''',\n",
    "        fillcolor=g.primary,\n",
    "        penwidth = '0')\n",
    "\n",
    "\n",
    "\n",
    "g.node('Process',\n",
    "        f'''<<TABLE BORDER=\"0\" CELLBORDER=\"0\" CELLSPACING=\"10\" CELLPADDING=\"10\" STYLE = \"rounded\">\n",
    "          <TR><TD PORT=\"Pro\" BORDER=\"0\" STYLE = \"rounded\" WIDTH=\"50\" >Process</TD></TR>\n",
    "          <TR><TD PORT=\"MinMax\" STYLE = \"rounded\" BGCOLOR=\"{g.secondary}\" >MinMaxScalar</TD></TR>\n",
    "          <TR><TD PORT=\"Seasonal\" STYLE = \"rounded\" BGCOLOR=\"{g.secondary}\" >Seasonal_decompose</TD></TR>\n",
    "          <TR><TD PORT=\"FFT\" STYLE = \"rounded\" BGCOLOR=\"{g.secondary}\" >FFT</TD></TR>\n",
    "          <TR><TD PORT=\"Correlation\" STYLE = \"rounded\" BGCOLOR=\"{g.secondary}\" >Variable Correlation</TD></TR>\n",
    "        </TABLE>>''',\n",
    "        fillcolor=g.primary,\n",
    "        penwidth = '0')\n",
    "\n",
    "\n",
    "g.node('Stats',\n",
    "        f'''<<TABLE BORDER=\"0\" CELLBORDER=\"0\" CELLSPACING=\"10\" CELLPADDING=\"10\" STYLE = \"rounded\">\n",
    "          <TR><TD PORT=\"sta\" BORDER=\"0\" STYLE = \"rounded\" WIDTH=\"50\" >Stats</TD></TR>\n",
    "          <TR><TD PORT=\"FFT\" STYLE = \"rounded\" BGCOLOR=\"{g.secondary}\" >FFT</TD></TR>\n",
    "          <TR><TD PORT=\"Naive\" STYLE = \"rounded\" BGCOLOR=\"{g.secondary}\" >SeasonNaive</TD></TR>\n",
    "          <TR><TD PORT=\"ARIMA\" STYLE = \"rounded\" BGCOLOR=\"{g.secondary}\" >AutoARIMA</TD></TR>\n",
    "          <TR><TD PORT=\"HaltWinter\" STYLE = \"rounded\" BGCOLOR=\"{g.secondary}\" >HaltWinter</TD></TR>\n",
    "          <TR><TD PORT=\"MSTL\" STYLE = \"rounded\" BGCOLOR=\"{g.secondary}\" >MSTL</TD></TR>\n",
    "        </TABLE>>''',\n",
    "        fillcolor=g.primary,\n",
    "        penwidth = '0')\n",
    "\n",
    "g.node('ML',\n",
    "        f'''<<TABLE BORDER=\"0\" CELLBORDER=\"0\" CELLSPACING=\"10\" CELLPADDING=\"10\" STYLE = \"rounded\">\n",
    "          <TR><TD PORT=\"M\" BORDER=\"0\" STYLE = \"rounded\" WIDTH=\"50\" >ML</TD></TR>\n",
    "          <TR><TD PORT=\"LinearRegression\" STYLE = \"rounded\" BGCOLOR=\"{g.secondary}\" >Linear Regressor</TD></TR>\n",
    "          <TR><TD PORT=\"LGBM\" STYLE = \"rounded\" BGCOLOR=\"{g.secondary}\" >LGBM Regressor</TD></TR>\n",
    "          <TR><TD PORT=\"XGB\" STYLE = \"rounded\" BGCOLOR=\"{g.secondary}\" >XGB Regressor</TD></TR>\n",
    "        </TABLE>>''',\n",
    "        fillcolor=g.primary,\n",
    "        penwidth = '0')\n",
    "\n",
    "\n",
    "g.node('Neural',\n",
    "        f'''<<TABLE BORDER=\"0\" CELLBORDER=\"0\" CELLSPACING=\"10\" CELLPADDING=\"10\" STYLE = \"rounded\">\n",
    "          <TR><TD PORT=\"Neu\" BORDER=\"0\" STYLE = \"rounded\" WIDTH=\"50\" >Neural</TD></TR>\n",
    "          <TR><TD PORT=\"MLP\" STYLE = \"rounded\" BGCOLOR=\"{g.secondary}\" >MLP</TD></TR>\n",
    "          <TR><TD PORT=\"NBEATS\" STYLE = \"rounded\" BGCOLOR=\"{g.secondary}\" >NBEATS</TD></TR>\n",
    "          <TR><TD PORT=\"NHITS\" STYLE = \"rounded\" BGCOLOR=\"{g.secondary}\" >NHITS</TD></TR>\n",
    "        </TABLE>>''',\n",
    "        fillcolor=g.primary,\n",
    "        penwidth = '0')\n",
    "\n",
    "g.node('Evaluate',\n",
    "        f'''<<TABLE BORDER=\"0\" CELLBORDER=\"0\" CELLSPACING=\"10\" CELLPADDING=\"10\" STYLE = \"rounded\">\n",
    "          <TR><TD PORT=\"Eval\" BORDER=\"0\" STYLE = \"rounded\" WIDTH=\"50\" >Evaluate</TD></TR>\n",
    "          <TR><TD PORT=\"mape\" STYLE = \"rounded\" BGCOLOR=\"{g.secondary}\" >mape</TD></TR>\n",
    "          <TR><TD PORT=\"rmse\" STYLE = \"rounded\" BGCOLOR=\"{g.secondary}\" >rmse</TD></TR>\n",
    "          <TR><TD PORT=\"smape\" STYLE = \"rounded\" BGCOLOR=\"{g.secondary}\" >smape</TD></TR>\n",
    "          <TR><TD PORT=\"mase\" STYLE = \"rounded\" BGCOLOR=\"{g.secondary}\" >mase</TD></TR>\n",
    "          <TR><TD PORT=\"mae\" STYLE = \"rounded\" BGCOLOR=\"{g.secondary}\" >mae</TD></TR>\n",
    "          \n",
    "        </TABLE>>''',\n",
    "        fillcolor=g.primary,\n",
    "        penwidth = '0')\n",
    "\n",
    "\n",
    "g.edge('Buckets', 'Process')\n",
    "\n",
    "g.edge('Process', 'Stats')\n",
    "g.edge('Process', 'ML')\n",
    "g.edge('Process', 'Neural')\n",
    "\n",
    "\n",
    "g.edge('Stats', 'Evaluate')\n",
    "g.edge('ML', 'Evaluate')\n",
    "g.edge('Neural', 'Evaluate')\n",
    "\n",
    "\n",
    "\n",
    "g.render(format='svg', cleanup=False)\n",
    "\n",
    "\n",
    "g\n"
   ]
  },
  {
   "cell_type": "markdown",
   "id": "32c84182-9deb-40d1-b0b9-0e936a0bc1a8",
   "metadata": {},
   "source": [
    "```{=html}\n",
    "<table>\n",
    "  <caption>As described in the section above, Quarto tables are great.</caption>\n",
    "  <thead>\n",
    "    <tr>\n",
    "      <th>Header 1</th>\n",
    "      <th>Header 2</th>\n",
    "    </tr>\n",
    "  </thead>\n",
    "  <tbody>\n",
    "    <tr>\n",
    "    <td><img src=\"https://upload.wikimedia.org/wikipedia/commons/thumb/3/37/African_Bush_Elephant.jpg/220px-African_Bush_Elephant.jpg\" alt=\"African Bush Elephant\" /></td>\n",
    "      <td>Regular output</td>\n",
    "    </tr>\n",
    "  </tbody>\n",
    "</table>\n",
    "```"
   ]
  },
  {
   "cell_type": "markdown",
   "id": "e85d9eb9-466e-4193-b12f-c1ed34b79ae1",
   "metadata": {},
   "source": [
    "## Diagrams"
   ]
  },
  {
   "cell_type": "markdown",
   "id": "178649f9-c3f8-4919-b883-be590a1305b5",
   "metadata": {},
   "source": [
    "```{dot}\n",
    "digraph {\n",
    "    A -> B;\n",
    "    A -> C;\n",
    "    B -> D;\n",
    "    C -> D;\n",
    "}\n",
    "```"
   ]
  },
  {
   "cell_type": "markdown",
   "id": "0ce5aa37-6922-408c-bd9f-7df95b845182",
   "metadata": {},
   "source": [
    "import graphviz\n",
    "dot_data = '''\n",
    "digraph {\n",
    "    A -> B;\n",
    "    A -> C;\n",
    "    B -> D;\n",
    "    C -> D;\n",
    "}\n",
    "'''\n",
    "graph = graphviz.Source(dot_data)\n",
    "graph"
   ]
  },
  {
   "cell_type": "markdown",
   "id": "3c9d2eca-5ad7-4a9d-8ef9-9388cf620e9f",
   "metadata": {},
   "source": [
    "```{mermaid}\n",
    "flowchart LR\n",
    "  A[Hard edge] --> B(Round edge)\n",
    "  B --> C{Decision}\n",
    "  C --> D[Result one]\n",
    "  C --> E[Result two]\n",
    "```"
   ]
  },
  {
   "cell_type": "markdown",
   "id": "83f11c31-9492-41db-9758-31a7b517b6f5",
   "metadata": {},
   "source": [
    "```{mermaid}\n",
    "sequenceDiagram\n",
    "  participant Alice\n",
    "  participant Bob\n",
    "  Alice->>John: Hello John, how are you?\n",
    "  loop Healthcheck\n",
    "    John->>John: Fight against hypochondria\n",
    "  end\n",
    "  Note right of John: Rational thoughts <br/>prevail!\n",
    "  John-->>Alice: Great!\n",
    "  John->>Bob: How about you?\n",
    "  Bob-->>John: Jolly good!\n",
    "```"
   ]
  },
  {
   "cell_type": "markdown",
   "id": "8d026000-1a61-4513-8665-7da667a6b5c9",
   "metadata": {},
   "source": [
    "```{mermaid}\n",
    "---\n",
    "title: Animal example\n",
    "---\n",
    "classDiagram\n",
    "    note \"From Duck till Zebra\"\n",
    "    Animal <|-- Duck\n",
    "    note for Duck \"can fly\\ncan swim\\ncan dive\\ncan help in debugging\"\n",
    "    Animal <|-- Fish\n",
    "    Animal <|-- Zebra\n",
    "    Animal : +int age\n",
    "    Animal : +String gender\n",
    "    Animal: +isMammal()\n",
    "    Animal: +mate()\n",
    "    class Duck{\n",
    "        +String beakColor\n",
    "        +swim()\n",
    "        +quack()\n",
    "    }\n",
    "    class Fish{\n",
    "        -int sizeInFeet\n",
    "        -canEat()\n",
    "    }\n",
    "    class Zebra{\n",
    "        +bool is_wild\n",
    "        +run()\n",
    "    }\n",
    "```"
   ]
  },
  {
   "cell_type": "markdown",
   "id": "3244aafc-02dd-416d-89c0-04875e6fc69c",
   "metadata": {},
   "source": [
    "```{mermaid}\n",
    "stateDiagram\n",
    "    [*] --> Still\n",
    "    Still --> [*]\n",
    "\n",
    "    Still --> Moving\n",
    "    Moving --> Still\n",
    "    Moving --> Crash\n",
    "    Crash --> [*]\n",
    "\n",
    "```"
   ]
  },
  {
   "cell_type": "markdown",
   "id": "99a5a1f8-5a9d-4e5e-8731-99a6fbf243f3",
   "metadata": {},
   "source": [
    "```{mermaid}\n",
    "---\n",
    "title: Order example\n",
    "---\n",
    "erDiagram\n",
    "    CUSTOMER ||--o{ ORDER : places\n",
    "    ORDER ||--|{ LINE-ITEM : contains\n",
    "    CUSTOMER }|..|{ DELIVERY-ADDRESS : uses\n",
    "\n",
    "```"
   ]
  },
  {
   "cell_type": "markdown",
   "id": "8f159efd-a5cf-426f-a5b4-a5f5e9e0b239",
   "metadata": {},
   "source": [
    "```{mermaid}\n",
    "journey\n",
    "    title My working day\n",
    "    section Go to work\n",
    "      Make tea: 5: Me\n",
    "      Go upstairs: 3: Me\n",
    "      Do work: 1: Me, Cat\n",
    "    section Go home\n",
    "      Go downstairs: 5: Me\n",
    "      Sit down: 5: Me\n",
    "```"
   ]
  },
  {
   "cell_type": "markdown",
   "id": "806f83ea-0fc3-4891-a041-717dcde80b56",
   "metadata": {},
   "source": [
    "```{mermaid}\n",
    "gantt\n",
    "    dateFormat HH:mm\n",
    "    axisFormat %H:%M\n",
    "    Initial milestone : milestone, m1, 17:49, 2m\n",
    "    Task A : 10m\n",
    "    Task B : 5m\n",
    "    Final milestone : milestone, m2, 18:08, 4m\n",
    "```"
   ]
  },
  {
   "cell_type": "markdown",
   "id": "7be754c6-37ed-472d-858b-f69a876da0a9",
   "metadata": {},
   "source": [
    "```{mermaid}\n",
    "pie title Pets adopted by volunteers\n",
    "    \"Dogs\" : 386\n",
    "    \"Cats\" : 85\n",
    "    \"Rats\" : 15\n",
    "```"
   ]
  },
  {
   "cell_type": "markdown",
   "id": "1cc1efe5-2f2d-4559-bea5-ab91a4a2b699",
   "metadata": {},
   "source": [
    "```{mermaid}\n",
    "---\n",
    "title: Example Git diagram\n",
    "---\n",
    "gitGraph\n",
    "   commit\n",
    "   commit\n",
    "   branch develop\n",
    "   checkout develop\n",
    "   commit\n",
    "   commit\n",
    "   checkout main\n",
    "   merge develop\n",
    "   commit\n",
    "   commit\n",
    "```"
   ]
  },
  {
   "cell_type": "markdown",
   "id": "1e17e169-c38f-450e-abd2-85211aeaa787",
   "metadata": {},
   "source": [
    "```{mermaid}\n",
    "timeline\n",
    "        title History of Social Media Platform\n",
    "          2002 : LinkedIn\n",
    "          2004 : Facebook : Google\n",
    "          2005 : Youtube\n",
    "          2006 : Twitter\n",
    "```"
   ]
  },
  {
   "cell_type": "markdown",
   "id": "42853e2c-4bc3-4673-bf53-eaaeb934db9b",
   "metadata": {},
   "source": [
    "## Callouts"
   ]
  },
  {
   "cell_type": "markdown",
   "id": "5061fec6-a58c-4960-a3ac-7f1678907f19",
   "metadata": {},
   "source": [
    "::: {.callout-note}\n",
    "Note that there are five types of callouts, including:\n",
    "`note`, `warning`, `important`, `tip`, and `caution`.\n",
    ":::\n",
    "\n",
    "::: {.callout-tip}\n",
    "## Tip with Title\n",
    "\n",
    "This is an example of a callout with a title.\n",
    ":::\n",
    "\n",
    "::: {.callout-caution collapse=\"true\"}\n",
    "## Expand To Learn About Collapse\n",
    "\n",
    "This is an example of a 'folded' caution callout that can be expanded by the user. You can use `collapse=\"true\"` to collapse it by default or `collapse=\"false\"` to make a collapsible callout that is expanded by default.\n",
    ":::"
   ]
  },
  {
   "cell_type": "markdown",
   "id": "d01ed8c9-c4cc-4cb7-bae5-a5b8e7d701c6",
   "metadata": {},
   "source": [
    "## Videos"
   ]
  },
  {
   "cell_type": "markdown",
   "id": "851f4fb3-d0fe-452c-92c3-c4136b3979b1",
   "metadata": {},
   "source": [
    "{{< video local-video.mp4 >}}\n",
    "\n",
    "{{< video https://www.youtube.com/embed/wo9vZccmqwc >}}\n",
    "\n",
    "{{< video https://vimeo.com/548291297 >}}\n",
    "\n",
    "{{< video https://youtu.be/wo9vZccmqwc width=\"400\" height=\"300\" >}}\n",
    "\n",
    "{{< video https://www.youtube.com/embed/wo9vZccmqwc\n",
    "    title=\"What is the CERN?\"\n",
    "    start=\"116\"\n",
    "    aspect-ratio=\"21x9\" \n",
    ">}}"
   ]
  },
  {
   "cell_type": "markdown",
   "id": "dc12528a-aaa9-4f6e-ba23-5676905ff953",
   "metadata": {},
   "source": [
    "## Code Capabilities"
   ]
  },
  {
   "cell_type": "code",
   "execution_count": null,
   "id": "90d62d62-dd4c-436c-990b-ce9d3801222b",
   "metadata": {},
   "outputs": [
    {
     "data": {
      "text/plain": [
       "(1, 2, 4, 8)"
      ]
     },
     "execution_count": null,
     "metadata": {},
     "output_type": "execute_result"
    }
   ],
   "source": [
    "a = 1\n",
    "b = a + 1\n",
    "c = b + a + 1\n",
    "d = c + b + a + 1\n",
    "a, b, c ,d"
   ]
  },
  {
   "cell_type": "code",
   "execution_count": null,
   "id": "88ece76f-9741-4b73-9a2f-bcac0ff54a32",
   "metadata": {},
   "outputs": [
    {
     "data": {
      "image/png": "[encoded data removed]",
      "text/plain": [
       "<Figure size 640x480 with 1 Axes>"
      ]
     },
     "metadata": {},
     "output_type": "display_data"
    }
   ],
   "source": [
    "import matplotlib.pyplot as plt\n",
    "\n",
    "plt.plot([a,b,c,d])\n",
    "plt.show()"
   ]
  },
  {
   "cell_type": "markdown",
   "id": "0e9eb53a-ee63-413e-a986-3e7cfc9eea75",
   "metadata": {},
   "source": [
    "## Shortcuts and Tricks"
   ]
  },
  {
   "cell_type": "markdown",
   "id": "5bc3a5f5-9944-4c78-9df1-9b0f5b7b54fb",
   "metadata": {},
   "source": [
    "### Command Mode Shortcuts"
   ]
  },
  {
   "cell_type": "markdown",
   "id": "7dd26e5e-56ba-410d-8a0e-3bc87a358db2",
   "metadata": {},
   "source": [
    "There are a couple of useful keyboard shortcuts in `Command Mode` that you can leverage to make Jupyter Notebook faster to use. Remember that you can switch back and forth between `Command Mode` and `Edit Mode` with <kbd>Esc</kbd> and <kbd>Enter</kbd>.\n",
    "\n",
    "- m:: Convert cell to Markdown\n",
    "- y:: Convert cell to Code\n",
    "- d+d:: Delete cell\n",
    "- o:: Toggle between hide or show output\n",
    "- Shift+Arrow up/Arrow down:: Select multiple cells. Once you have selected them you can operate on them like a batch (run, copy, paste etc).\n",
    "- Shift+M:: Merge selected cells\n"
   ]
  },
  {
   "cell_type": "markdown",
   "id": "2c30fee0-b96a-4200-be3b-8972384e8d68",
   "metadata": {},
   "source": [
    "### Cell Tricks"
   ]
  },
  {
   "cell_type": "markdown",
   "id": "ef1b2ffc-067d-4e37-b8f5-d22d28b20ab5",
   "metadata": {},
   "source": [
    "There are also some tricks that you can code into a cell:\n",
    "\n",
    "- `?function-name`:: Shows the definition and docstring for that function\n",
    "- `??function-name`:: Shows the source code for that function\n",
    "- `doc(function-name)`:: Shows the definition, docstring **and links to the documentation** of the function\n",
    "(only works with fastai library imported)\n",
    "- Shift+Tab (press once):: See which parameters to pass to a function \n",
    "- Shift+Tab (press three times):: Get additional information on the method\n",
    "\n",
    "Here's an example of using `?` to learn about Python's `print()` function:"
   ]
  },
  {
   "cell_type": "code",
   "execution_count": null,
   "id": "237558ae-9638-439f-859e-735c239708c1",
   "metadata": {},
   "outputs": [
    {
     "name": "stdout",
     "output_type": "stream",
     "text": [
      "asd\n"
     ]
    }
   ],
   "source": [
    "print(\"asd\")"
   ]
  },
  {
   "cell_type": "markdown",
   "id": "838a0576-edc8-4f56-924e-baf1fbbb49f2",
   "metadata": {},
   "source": [
    "### Line Magics"
   ]
  },
  {
   "cell_type": "markdown",
   "id": "cdc6ddd4-552c-4e93-ba25-d1834a5e4d98",
   "metadata": {},
   "source": [
    "Line magics are functions that you can run on cells. They should be at the beginning of a line and take as an argument the rest of the line from where they are called. You call them by placing a '%' sign before the command. The most useful ones are:\n",
    "\n",
    "- `%matplotlib inline`:: Ensures that all matplotlib plots will be plotted in the output cell within the notebook and will be kept in the notebook when saved.\n",
    "\n",
    "This command is always called together at the beginning of every notebook of the fast.ai course.\n",
    "\n",
    "``` python\n",
    "%matplotlib inline\n",
    "```\n",
    "\n",
    "- `%timeit`:: Runs a line ten thousand times and displays the average time it took to run."
   ]
  },
  {
   "cell_type": "code",
   "execution_count": null,
   "id": "d113528f-c771-45a5-98f1-79f403a123f8",
   "metadata": {},
   "outputs": [
    {
     "name": "stdout",
     "output_type": "stream",
     "text": [
      "41.8 µs ± 3.17 µs per loop (mean ± std. dev. of 7 runs, 10,000 loops each)\n"
     ]
    }
   ],
   "source": [
    "%timeit [i+1 for i in range(1000)]"
   ]
  },
  {
   "cell_type": "markdown",
   "id": "37472e48-c28b-422d-a075-556300328dfd",
   "metadata": {},
   "source": [
    "`%debug`: Inspects a function which is showing an error using the [Python debugger](https://docs.python.org/3/library/pdb.html). If you type this in a cell just after an error, you will be directed to a console where you can inspect the values of all the variables.\n"
   ]
  },
  {
   "cell_type": "markdown",
   "id": "44de196a-f6fa-419c-8103-8d5a62545a9f",
   "metadata": {},
   "source": []
  },
  {
   "cell_type": "markdown",
   "id": "7c5d875d-7c0a-43a0-8586-690130e71cd6",
   "metadata": {},
   "source": []
  },
  {
   "cell_type": "markdown",
   "id": "6c7e2048-5073-4b5c-9d65-ddfae8f9e8c1",
   "metadata": {},
   "source": []
  }
 ],
 "metadata": {
  "kernelspec": {
   "display_name": "python3",
   "language": "python",
   "name": "python3"
  },
  "widgets": {
   "application/vnd.jupyter.widget-state+json": {
    "state": {},
    "version_major": 2,
    "version_minor": 0
   }
  }
 },
 "nbformat": 4,
 "nbformat_minor": 5
}
