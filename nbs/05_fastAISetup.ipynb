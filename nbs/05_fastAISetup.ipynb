{
 "cells": [
  {
   "cell_type": "markdown",
   "id": "aa5d97b1-c0f7-4207-96fb-6b307b746ade",
   "metadata": {},
   "source": [
    "# FastAI Setup\n",
    "\n",
    "> Details on setting up FASTAI"
   ]
  },
  {
   "cell_type": "code",
   "execution_count": null,
   "id": "cad6f852-362f-4b4c-9f53-216487995f76",
   "metadata": {},
   "outputs": [],
   "source": [
    "#| default_exp fastai"
   ]
  },
  {
   "cell_type": "markdown",
   "id": "8702bbe4-abdd-4882-a08c-b21410636d2b",
   "metadata": {},
   "source": [
    "## Installs"
   ]
  },
  {
   "cell_type": "markdown",
   "id": "ea32ab03-1d40-426b-9a62-feeb24068e6c",
   "metadata": {},
   "source": [
    "For installing fastai"
   ]
  },
  {
   "cell_type": "markdown",
   "id": "52d3865f-b0c5-4c6c-b421-6ff81ef8fc16",
   "metadata": {},
   "source": [
    "```sh\n",
    "!mamba install -c nvidia fastai\n",
    "```"
   ]
  },
  {
   "cell_type": "markdown",
   "id": "acd0ad92-b6a0-44ed-ab80-a6a42e4a0ced",
   "metadata": {},
   "source": [
    "```sh\n",
    "!pip list | grep \"fastai\" || pip install -U fastai\n",
    "```"
   ]
  },
  {
   "cell_type": "markdown",
   "id": "51994005-9bf9-496c-8602-b99703610a14",
   "metadata": {},
   "source": [
    "```sh\n",
    "conda install -c nvidia fastai anaconda\n",
    "```"
   ]
  },
  {
   "cell_type": "code",
   "execution_count": null,
   "id": "269fd483-3d0d-4ff4-b0d1-fe1376c285d8",
   "metadata": {},
   "outputs": [
    {
     "name": "stdout",
     "output_type": "stream",
     "text": [
      "fastai                        2.7.12\n"
     ]
    }
   ],
   "source": [
    "!pip list | grep \"fastai\" "
   ]
  },
  {
   "cell_type": "markdown",
   "id": "34aaa9e4-ace8-48fa-9c2d-1c6a452a51db",
   "metadata": {},
   "source": [
    "For installing fastbook\n",
    "```sh\n",
    "pip list | grep \"fastbook\" || pip install -U fastbook\n",
    "```"
   ]
  },
  {
   "cell_type": "code",
   "execution_count": null,
   "id": "fd754451-b08e-4ed3-a2ed-569cfa19db8e",
   "metadata": {},
   "outputs": [
    {
     "name": "stdout",
     "output_type": "stream",
     "text": [
      "fastbook                      0.0.28\n"
     ]
    }
   ],
   "source": [
    "!pip list | grep \"fastbook\""
   ]
  },
  {
   "cell_type": "code",
   "execution_count": null,
   "id": "3fe02392-bac6-438d-a5b6-371883141a62",
   "metadata": {},
   "outputs": [],
   "source": [
    "import torch\n"
   ]
  },
  {
   "cell_type": "code",
   "execution_count": null,
   "id": "788cf2f6-8f60-4a81-abad-f0d460d8e8f0",
   "metadata": {},
   "outputs": [
    {
     "data": {
      "text/plain": [
       "True"
      ]
     },
     "execution_count": null,
     "metadata": {},
     "output_type": "execute_result"
    }
   ],
   "source": [
    "torch.cuda.is_available()"
   ]
  },
  {
   "cell_type": "code",
   "execution_count": null,
   "id": "ae5066d0-05c5-40ba-b364-38446903bd85",
   "metadata": {},
   "outputs": [],
   "source": []
  }
 ],
 "metadata": {
  "kernelspec": {
   "display_name": "python3",
   "language": "python",
   "name": "python3"
  }
 },
 "nbformat": 4,
 "nbformat_minor": 5
}
