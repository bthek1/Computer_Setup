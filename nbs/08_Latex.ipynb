{
 "cells": [
  {
   "cell_type": "markdown",
   "id": "5a781e94-a176-4a83-af67-174dfb74244b",
   "metadata": {},
   "source": [
    "# Latex\n",
    "\n",
    "> Latex"
   ]
  },
  {
   "cell_type": "code",
   "execution_count": null,
   "id": "0eff3b9f-4842-4377-8557-86c060600080",
   "metadata": {},
   "outputs": [],
   "source": [
    "#| default_exp latex"
   ]
  },
  {
   "cell_type": "markdown",
   "id": "9ea14009-ddf2-4516-82de-76e66b77caa3",
   "metadata": {},
   "source": [
    "## Non-interactive default installation on anything but Windows:"
   ]
  },
  {
   "cell_type": "markdown",
   "id": "c04e6846-3da6-4f21-91d7-8c917e2ac2f3",
   "metadata": {},
   "source": [
    "    cd /tmp # working directory of your choice"
   ]
  },
  {
   "cell_type": "markdown",
   "id": "9b67acef-93e1-4798-830d-addcb58db17d",
   "metadata": {},
   "source": [
    "    Download: wget https://mirror.ctan.org/systems/texlive/tlnet/install-tl-unx.tar.gz\n",
    "               or: curl -L -o install-tl-unx.tar.gz https://mirror.ctan.org/systems/texlive/tlnet/install-tl-unx.tar.gz    \n",
    "               (or via whatever other method you like)"
   ]
  },
  {
   "cell_type": "markdown",
   "id": "25b20bee-cda6-495c-995d-bdb79fe6795d",
   "metadata": {},
   "source": [
    "    zcat < install-tl-unx.tar.gz | tar xf -"
   ]
  },
  {
   "cell_type": "markdown",
   "id": "dd9903a5-6f6d-4a77-9eff-5e8a7e845d88",
   "metadata": {},
   "source": [
    "    cd install-tl-*"
   ]
  },
  {
   "cell_type": "markdown",
   "id": "90a1e375-d473-47a3-ae9a-7c7f3510cffd",
   "metadata": {},
   "source": [
    "    perl ./install-tl --no-interaction # as root or with writable destination"
   ]
  },
  {
   "cell_type": "markdown",
   "id": "ad203ede-03e0-4ff3-9173-84dbe271364b",
   "metadata": {},
   "source": [
    "    Finally, prepend /usr/local/texlive/YYYY/bin/PLATFORM to your PATH,\n",
    "    e.g., /usr/local/texlive/2024/bin/x86_64-linux "
   ]
  },
  {
   "cell_type": "markdown",
   "id": "b2443919-4aca-47eb-b20b-fd8832b9e35f",
   "metadata": {},
   "source": [
    "## Changing defaults:"
   ]
  },
  {
   "cell_type": "markdown",
   "id": "1b377498-6f2c-4bd5-931f-b9e3c84ad2a8",
   "metadata": {},
   "source": [
    "- The default paper size is a4. If you want the default to be letter, add --paper=letter to the install-tl command.\n",
    "- By default, everything is installed (7+GB).\n",
    "  - To install a smaller scheme, pass --scheme=scheme to install-tl. For example, --scheme=small corresponds to the BasicTeX variant of MacTeX.\n",
    "  - To omit installation of the documentation resp. source files, pass --no-doc-install --no-src-install to install-tl. \n",
    "- To change the main installation directories (rarely needed), add --texdir=/install/dir to the install-tl command. To change the location of the per-user directories (where TEXMFHOME and others will be found), specify --texuserdir=/your/dir.\n",
    "- To change anything and everything else, omit the --no-interaction. Then you are dropped into an interactive installation menu. "
   ]
  },
  {
   "cell_type": "code",
   "execution_count": null,
   "id": "bbf6cf91-70e1-4198-b1a6-64e3da99ecde",
   "metadata": {},
   "outputs": [],
   "source": []
  }
 ],
 "metadata": {
  "kernelspec": {
   "display_name": "python3",
   "language": "python",
   "name": "python3"
  },
  "widgets": {
   "application/vnd.jupyter.widget-state+json": {
    "state": {},
    "version_major": 2,
    "version_minor": 0
   }
  }
 },
 "nbformat": 4,
 "nbformat_minor": 5
}
