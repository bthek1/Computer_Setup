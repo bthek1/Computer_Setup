{
 "cells": [
  {
   "cell_type": "markdown",
   "id": "6d62b632-0848-40c4-b35c-ba4130945f57",
   "metadata": {},
   "source": [
    "# Linux Computer\n",
    "\n",
    "\n",
    "> New Ubuntu Computer\n",
    "\n",
    "- skip_showdoc:true\n",
    "- skip_exec:true\n"
   ]
  },
  {
   "cell_type": "markdown",
   "id": "a2ad1954-6ca0-4834-b81a-d2aadf106169",
   "metadata": {},
   "source": [
    "## Install Git"
   ]
  },
  {
   "cell_type": "markdown",
   "id": "ead9b001-fda0-4c0a-a176-8ee4342abe43",
   "metadata": {},
   "source": [
    "```sh\n",
    "sudo apt install git\n",
    "```"
   ]
  },
  {
   "cell_type": "markdown",
   "id": "ed839b1c-7e89-41aa-bd63-18d9ef6f91dd",
   "metadata": {},
   "source": [
    "## Install Code\n"
   ]
  },
  {
   "cell_type": "markdown",
   "id": "54b3f994-6d8f-433e-8c3c-abc7fe0dfe8f",
   "metadata": {},
   "source": [
    "```sh\n",
    "sudo snap install code --classic\n",
    "\n",
    "```\n"
   ]
  },
  {
   "cell_type": "markdown",
   "id": "27223720-a494-4a57-a563-397cdf87aadc",
   "metadata": {},
   "source": [
    "## Install stow"
   ]
  },
  {
   "cell_type": "markdown",
   "id": "2ab58cf1-8360-413e-b6e5-b75c8d45389f",
   "metadata": {},
   "source": [
    "```sh\n",
    "sudp apt install stow\n",
    "```"
   ]
  },
  {
   "cell_type": "markdown",
   "id": "5ab0a67f-9576-447e-ac39-54616105a640",
   "metadata": {},
   "source": [
    "## Install tmux"
   ]
  },
  {
   "cell_type": "markdown",
   "id": "3e90dea5-aa14-4d66-bb86-d4a547a682f8",
   "metadata": {},
   "source": [
    "```sh\n",
    "sudo apt install tmux\n",
    "```\n"
   ]
  },
  {
   "cell_type": "markdown",
   "id": "9ecbdbc7-599e-479a-b622-62db98f5562d",
   "metadata": {},
   "source": [
    "## [Set up ssh with Github](https://bthek1.github.io/WEB_doc/github.html)"
   ]
  },
  {
   "cell_type": "code",
   "execution_count": null,
   "id": "40e86d16-8e7f-4d82-b765-056c243c5173",
   "metadata": {},
   "outputs": [],
   "source": []
  }
 ],
 "metadata": {
  "kernelspec": {
   "display_name": "python3",
   "language": "python",
   "name": "python3"
  }
 },
 "nbformat": 4,
 "nbformat_minor": 5
}
