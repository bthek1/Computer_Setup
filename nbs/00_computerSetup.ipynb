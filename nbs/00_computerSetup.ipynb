{
 "cells": [
  {
   "cell_type": "markdown",
   "id": "5a781e94-a176-4a83-af67-174dfb74244b",
   "metadata": {},
   "source": [
    "# Computer Setup\n",
    "\n",
    "> Details on setting up Computer Setup"
   ]
  },
  {
   "cell_type": "code",
   "execution_count": null,
   "id": "0eff3b9f-4842-4377-8557-86c060600080",
   "metadata": {},
   "outputs": [],
   "source": [
    "#| default_exp computer"
   ]
  },
  {
   "cell_type": "markdown",
   "id": "c52a7016-f5ed-4176-92ce-ccb4b2f0d08b",
   "metadata": {},
   "source": [
    "## Uninstalls  \n",
    "- OneDrive"
   ]
  },
  {
   "cell_type": "markdown",
   "id": "1bd2fadf-cb00-421d-b3db-ee5a8fc5ad83",
   "metadata": {},
   "source": [
    "## Download WSL - Linux environment for Windows"
   ]
  },
  {
   "cell_type": "markdown",
   "id": "8c85185e-bba8-4754-b654-ae96737db134",
   "metadata": {},
   "source": [
    "- goto powershell\n",
    "```sh\n",
    "wsl --install\n",
    "```"
   ]
  },
  {
   "cell_type": "markdown",
   "id": "f84f7d2d-c811-44b5-8756-cc20d7f9cec4",
   "metadata": {},
   "source": [
    "- o see a list of available Linux distributions available for download through the online store\n",
    "```sh\n",
    "wsl -l -o\n",
    "```"
   ]
  },
  {
   "cell_type": "markdown",
   "id": "5281578c-c1b6-4d5e-8745-8a0512809bb8",
   "metadata": {},
   "source": [
    "- to download a Linux distribution\n",
    "```sh\n",
    "wsl --install -d <Distribution Name>\n",
    "```"
   ]
  },
  {
   "cell_type": "markdown",
   "id": "c2e08d3f-2d41-4f9d-936f-bb69f5c83e58",
   "metadata": {},
   "source": [
    "- to remove a distribution\n",
    "```sh\n",
    "wsl --unregister <Distribution Name>\n",
    "```"
   ]
  },
  {
   "cell_type": "markdown",
   "id": "f831d30f-80e1-470a-8c26-fbc4464ee126",
   "metadata": {},
   "source": [
    "## Run Fastsetup in linux file"
   ]
  },
  {
   "cell_type": "markdown",
   "id": "16a2cd43-4914-4525-979a-307e66ebd116",
   "metadata": {},
   "source": [
    "```sh\n",
    "sudo apt -y install git\n",
    "```"
   ]
  },
  {
   "cell_type": "markdown",
   "id": "06133e20-d223-4ba4-bf63-adb02e1ae1ef",
   "metadata": {},
   "source": [
    "```sh\n",
    "git clone git@github.com:fastai/fastsetup.git\n",
    "```"
   ]
  },
  {
   "cell_type": "markdown",
   "id": "1c36e8c5-4e57-457f-9f3c-14e12bbfe2f6",
   "metadata": {},
   "source": [
    "> Read README.txt"
   ]
  },
  {
   "cell_type": "markdown",
   "id": "d3719f2a-d833-4de6-9df9-a47b3a7b8800",
   "metadata": {},
   "source": [
    "```sh\n",
    "cd fastsetup\n",
    "```"
   ]
  },
  {
   "cell_type": "markdown",
   "id": "36f95ee6-4e00-4f0d-8df3-bca293814c85",
   "metadata": {},
   "source": [
    "give files permission to run\n",
    "```sh\n",
    "chmod +x *\n",
    "```"
   ]
  },
  {
   "cell_type": "markdown",
   "id": "94dd8c29-77a0-4a32-9bd8-40ccde997dfe",
   "metadata": {},
   "source": [
    "```sh\n",
    "sudo ./ubuntu-wsl.sh\n",
    "```"
   ]
  },
  {
   "cell_type": "markdown",
   "id": "5dec71d2-46cf-4b36-9116-11c646cfe944",
   "metadata": {},
   "source": [
    "```sh\n",
    "source dotfiles.sh\n",
    "```"
   ]
  },
  {
   "cell_type": "markdown",
   "id": "a71c8dc7-b5f3-4bd0-88e9-4957cb78cddb",
   "metadata": {},
   "source": [
    "```sh\n",
    "source setup-conda.sh\n",
    "```"
   ]
  },
  {
   "cell_type": "markdown",
   "id": "9106de9f-2ac0-4e0d-af0e-e48383d416b8",
   "metadata": {},
   "source": [
    "```sh\n",
    ". ~/.bashrc\n",
    "```"
   ]
  },
  {
   "cell_type": "markdown",
   "id": "a48ece52-00e0-4f66-be29-dd1860dbf530",
   "metadata": {},
   "source": [
    "```sh\n",
    "conda install -yq mamba\n",
    "```"
   ]
  },
  {
   "cell_type": "markdown",
   "id": "7cbbd69c-587b-49ca-b1fa-062df9eb490b",
   "metadata": {},
   "source": [
    "## Resource monitoring"
   ]
  },
  {
   "cell_type": "markdown",
   "id": "c2eec9a0-6378-49b1-934c-3bf843684bd4",
   "metadata": {},
   "source": [
    "```sh\n",
    "sudo add-apt-repository ppa:bashtop-monitor/bashtop\n",
    "sudo apt update\n",
    "```"
   ]
  },
  {
   "cell_type": "markdown",
   "id": "09674863-5fee-43f1-beb3-05b6f606215f",
   "metadata": {},
   "source": [
    "```sh\n",
    "sudo apt install bashtop\n",
    "```"
   ]
  },
  {
   "cell_type": "markdown",
   "id": "0070168b-05c2-4ce5-b170-74ad323c4c2e",
   "metadata": {},
   "source": [
    "```sh\n",
    "bashtop\n",
    "```"
   ]
  },
  {
   "cell_type": "markdown",
   "id": "d09827d7-6be3-440d-a7de-16b4cd4958d4",
   "metadata": {},
   "source": [
    "## GPU monitoring"
   ]
  },
  {
   "cell_type": "markdown",
   "id": "d2dd97fd-af22-481c-982f-f690c54e43a0",
   "metadata": {},
   "source": [
    "```sh\n",
    "sudo add-apt-repository ppa:flexiondotorg/nvtop\n",
    "sudo apt install nvtop\n",
    "```"
   ]
  },
  {
   "cell_type": "markdown",
   "id": "e568498d-9074-4367-bfab-e9f84afe9c64",
   "metadata": {},
   "source": [
    "## Nvtop"
   ]
  },
  {
   "cell_type": "markdown",
   "id": "a8aaa42a-e7f0-4a2c-a455-dd0b019a8a66",
   "metadata": {},
   "source": [
    "```sh\n",
    "sudo add-apt-repository ppa:flexiondotorg/nvtop\n",
    "sudo apt install nvtop\n",
    "```"
   ]
  },
  {
   "cell_type": "code",
   "execution_count": null,
   "id": "81232c6b-39a3-48ca-946e-fdab1c9a67d6",
   "metadata": {},
   "outputs": [],
   "source": []
  },
  {
   "cell_type": "code",
   "execution_count": null,
   "id": "d18a4d57-0a75-4f5f-9ce1-10b4f92026fb",
   "metadata": {},
   "outputs": [],
   "source": []
  }
 ],
 "metadata": {
  "kernelspec": {
   "display_name": "python3",
   "language": "python",
   "name": "python3"
  },
  "widgets": {
   "application/vnd.jupyter.widget-state+json": {
    "state": {},
    "version_major": 2,
    "version_minor": 0
   }
  }
 },
 "nbformat": 4,
 "nbformat_minor": 5
}
