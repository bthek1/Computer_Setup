{
 "cells": [
  {
   "cell_type": "markdown",
   "id": "5a781e94-a176-4a83-af67-174dfb74244b",
   "metadata": {},
   "source": [
    "# Computer Setup\n",
    "\n",
    "> Details on setting up Computer Setup"
   ]
  },
  {
   "cell_type": "code",
   "execution_count": null,
   "id": "0eff3b9f-4842-4377-8557-86c060600080",
   "metadata": {},
   "outputs": [],
   "source": [
    "#| default_exp computer"
   ]
  },
  {
   "cell_type": "markdown",
   "id": "c52a7016-f5ed-4176-92ce-ccb4b2f0d08b",
   "metadata": {},
   "source": [
    "## Uninstalls  \n",
    "- OneDrive"
   ]
  },
  {
   "cell_type": "markdown",
   "id": "01a5c182-d039-4d17-a866-4e1d5c171946",
   "metadata": {},
   "source": [
    "## Installs  \n",
    "- Git\n",
    "- Vscode\n",
    "- Docker\n",
    "- Anaconda\n",
    "- WSL\n",
    "- Ubuntu\n",
    "- fastsetup"
   ]
  },
  {
   "cell_type": "markdown",
   "id": "f831d30f-80e1-470a-8c26-fbc4464ee126",
   "metadata": {},
   "source": [
    "## Run Fastsetup in linux file"
   ]
  },
  {
   "cell_type": "code",
   "execution_count": null,
   "id": "b12a88c6-d5e9-4900-9bcd-8dfcf2362f44",
   "metadata": {},
   "outputs": [],
   "source": []
  },
  {
   "cell_type": "code",
   "execution_count": null,
   "id": "7f4d6150-323f-4588-8ebc-064d23e6b77d",
   "metadata": {},
   "outputs": [],
   "source": []
  },
  {
   "cell_type": "code",
   "execution_count": null,
   "id": "36f4d01a-2454-4ab6-8537-e4a5d4b6eaa5",
   "metadata": {},
   "outputs": [],
   "source": []
  },
  {
   "cell_type": "code",
   "execution_count": null,
   "id": "ff92668f-43c9-4962-a90c-40f25c6df766",
   "metadata": {},
   "outputs": [],
   "source": []
  }
 ],
 "metadata": {
  "kernelspec": {
   "display_name": "python3",
   "language": "python",
   "name": "python3"
  }
 },
 "nbformat": 4,
 "nbformat_minor": 5
}
