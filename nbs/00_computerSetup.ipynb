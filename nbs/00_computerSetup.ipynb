{
 "cells": [
  {
   "cell_type": "markdown",
   "id": "5a781e94-a176-4a83-af67-174dfb74244b",
   "metadata": {},
   "source": [
    "# Computer Setup\n",
    "\n",
    "> Details on setting up Computer Setup"
   ]
  },
  {
   "cell_type": "code",
   "execution_count": null,
   "id": "0eff3b9f-4842-4377-8557-86c060600080",
   "metadata": {},
   "outputs": [],
   "source": [
    "#| default_exp computer"
   ]
  },
  {
   "cell_type": "markdown",
   "id": "c52a7016-f5ed-4176-92ce-ccb4b2f0d08b",
   "metadata": {},
   "source": [
    "## Uninstalls  \n",
    "- OneDrive"
   ]
  },
  {
   "cell_type": "markdown",
   "id": "8c86f9c0-0224-419a-b509-20c441ca4207",
   "metadata": {},
   "source": [
    "## Installs  \n",
    "- Git\n",
    "- Vscode\n",
    "- Docker\n",
    "- Anaconda\n",
    "- WSL\n",
    "- Ubuntu"
   ]
  },
  {
   "cell_type": "markdown",
   "id": "f9d2a138-ef96-4b8e-8d25-3f0e1153ad04",
   "metadata": {},
   "source": [
    "## Run Cuda 11.8"
   ]
  },
  {
   "cell_type": "markdown",
   "id": "e9e552e5-5e4e-4bc3-b3d7-bd175fe1e2e9",
   "metadata": {},
   "source": [
    "> It has to be cuda 11.8"
   ]
  },
  {
   "cell_type": "markdown",
   "id": "f831d30f-80e1-470a-8c26-fbc4464ee126",
   "metadata": {},
   "source": [
    "## Run Fastsetup in linux file"
   ]
  },
  {
   "cell_type": "markdown",
   "id": "06133e20-d223-4ba4-bf63-adb02e1ae1ef",
   "metadata": {},
   "source": [
    "```sh\n",
    "gh repo clone fastai/fastsetup\n",
    "```"
   ]
  },
  {
   "cell_type": "markdown",
   "id": "1c36e8c5-4e57-457f-9f3c-14e12bbfe2f6",
   "metadata": {},
   "source": [
    "> Read README.txt"
   ]
  },
  {
   "cell_type": "markdown",
   "id": "d3719f2a-d833-4de6-9df9-a47b3a7b8800",
   "metadata": {},
   "source": [
    "```sh\n",
    "cd fastsetup\n",
    "```"
   ]
  },
  {
   "cell_type": "markdown",
   "id": "36f95ee6-4e00-4f0d-8df3-bca293814c85",
   "metadata": {},
   "source": [
    "give files permission to run\n",
    "```sh\n",
    "chmod +x *\n",
    "```"
   ]
  },
  {
   "cell_type": "markdown",
   "id": "94dd8c29-77a0-4a32-9bd8-40ccde997dfe",
   "metadata": {},
   "source": [
    "```sh\n",
    "sudo ./ubuntu-wsl.sh\n",
    "```"
   ]
  },
  {
   "cell_type": "markdown",
   "id": "5dec71d2-46cf-4b36-9116-11c646cfe944",
   "metadata": {},
   "source": [
    "```sh\n",
    "./setup-conda.sh\n",
    "```"
   ]
  },
  {
   "cell_type": "markdown",
   "id": "9106de9f-2ac0-4e0d-af0e-e48383d416b8",
   "metadata": {},
   "source": [
    "```sh\n",
    ". ~/.bashrc\n",
    "```"
   ]
  },
  {
   "cell_type": "markdown",
   "id": "a48ece52-00e0-4f66-be29-dd1860dbf530",
   "metadata": {},
   "source": [
    "```sh\n",
    "conda install -yq mamba\n",
    "```"
   ]
  },
  {
   "cell_type": "code",
   "execution_count": null,
   "id": "ff92668f-43c9-4962-a90c-40f25c6df766",
   "metadata": {},
   "outputs": [],
   "source": []
  }
 ],
 "metadata": {
  "kernelspec": {
   "display_name": "python3",
   "language": "python",
   "name": "python3"
  }
 },
 "nbformat": 4,
 "nbformat_minor": 5
}
