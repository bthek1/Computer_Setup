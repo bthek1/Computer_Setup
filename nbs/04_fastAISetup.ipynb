{
 "cells": [
  {
   "cell_type": "markdown",
   "id": "aa5d97b1-c0f7-4207-96fb-6b307b746ade",
   "metadata": {},
   "source": [
    "# FastAI Setup\n",
    "\n",
    "> Details on setting up FASTAI"
   ]
  },
  {
   "cell_type": "code",
   "execution_count": null,
   "id": "cad6f852-362f-4b4c-9f53-216487995f76",
   "metadata": {},
   "outputs": [],
   "source": [
    "#| default_exp fastai"
   ]
  },
  {
   "cell_type": "markdown",
   "id": "185ce9c7-65f2-4d41-8d6a-8f0390bf7639",
   "metadata": {},
   "source": [
    "## Installs\n",
    "\n",
    "```sh\n",
    "conda install -c nvidia fastai anaconda\n",
    "\n",
    "```"
   ]
  },
  {
   "cell_type": "markdown",
   "id": "6fc4e838-d683-4930-a3ca-6d3088078a36",
   "metadata": {},
   "source": [
    "For installing fastai\n",
    "```sh\n",
    "!pip list | findstr \"fastai\" || pip install fastai\n",
    "```"
   ]
  },
  {
   "cell_type": "code",
   "execution_count": null,
   "id": "269fd483-3d0d-4ff4-b0d1-fe1376c285d8",
   "metadata": {},
   "outputs": [
    {
     "name": "stdout",
     "output_type": "stream",
     "text": [
      "fastai                   2.7.12\n"
     ]
    }
   ],
   "source": [
    "!pip list | findstr \"fastai\" "
   ]
  },
  {
   "cell_type": "markdown",
   "id": "9f6050ed-d063-40ec-8763-4481d86c674c",
   "metadata": {},
   "source": [
    "For installing duckduckgo which is needed for downloading images\n",
    "```sh\n",
    "pip list | findstr \"duckduckgo\" || pip install -U duckduckgo_search\n",
    "```"
   ]
  },
  {
   "cell_type": "code",
   "execution_count": null,
   "id": "ef9f9a6d-c3ed-43c2-9a5a-89499d89cc4d",
   "metadata": {},
   "outputs": [
    {
     "name": "stdout",
     "output_type": "stream",
     "text": [
      "duckduckgo-search        3.8.3\n"
     ]
    }
   ],
   "source": [
    "!pip list | findstr \"duckduckgo\""
   ]
  },
  {
   "cell_type": "markdown",
   "id": "34aaa9e4-ace8-48fa-9c2d-1c6a452a51db",
   "metadata": {},
   "source": [
    "For installing fastbook\n",
    "```sh\n",
    "pip list | findstr \"fastbook\" || pip install -U fastbook\n",
    "```"
   ]
  },
  {
   "cell_type": "code",
   "execution_count": null,
   "id": "fd754451-b08e-4ed3-a2ed-569cfa19db8e",
   "metadata": {},
   "outputs": [],
   "source": [
    "!pip list | findstr \"fastbook\""
   ]
  },
  {
   "cell_type": "code",
   "execution_count": null,
   "id": "c7293e29-d601-4267-aa4a-5f1e95e9a964",
   "metadata": {},
   "outputs": [],
   "source": []
  }
 ],
 "metadata": {
  "kernelspec": {
   "display_name": "python3",
   "language": "python",
   "name": "python3"
  }
 },
 "nbformat": 4,
 "nbformat_minor": 5
}
