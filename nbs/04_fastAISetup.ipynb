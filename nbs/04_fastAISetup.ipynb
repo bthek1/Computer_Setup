{
 "cells": [
  {
   "cell_type": "markdown",
   "id": "aa5d97b1-c0f7-4207-96fb-6b307b746ade",
   "metadata": {},
   "source": [
    "# FastAI Setup\n",
    "\n",
    "> Details on setting up FASTAI"
   ]
  },
  {
   "cell_type": "code",
   "execution_count": null,
   "id": "cad6f852-362f-4b4c-9f53-216487995f76",
   "metadata": {},
   "outputs": [],
   "source": [
    "#| default_exp fastai"
   ]
  },
  {
   "cell_type": "markdown",
   "id": "185ce9c7-65f2-4d41-8d6a-8f0390bf7639",
   "metadata": {},
   "source": [
    "## Installs\n",
    "\n",
    "```sh\n",
    "conda install -c nvidia fastai anaconda\n",
    "\n",
    "```"
   ]
  },
  {
   "cell_type": "markdown",
   "id": "6fc4e838-d683-4930-a3ca-6d3088078a36",
   "metadata": {},
   "source": [
    "For installing fastai\n",
    "```sh\n",
    "!pip list | grep \"fastai\" || pip install -U fastai\n",
    "```\n",
    "\n",
    "```sh\n",
    "!mamba install -c nvidia fastai anaconda\n",
    "```"
   ]
  },
  {
   "cell_type": "code",
   "execution_count": null,
   "id": "269fd483-3d0d-4ff4-b0d1-fe1376c285d8",
   "metadata": {},
   "outputs": [
    {
     "name": "stdout",
     "output_type": "stream",
     "text": [
      "fastai                    2.7.12\n"
     ]
    }
   ],
   "source": [
    "!pip list | grep \"fastai\" "
   ]
  },
  {
   "cell_type": "markdown",
   "id": "9f6050ed-d063-40ec-8763-4481d86c674c",
   "metadata": {},
   "source": [
    "For installing duckduckgo which is needed for downloading images\n",
    "```sh\n",
    "pip list | grep \"duckduckgo\" || pip install -U duckduckgo_search\n",
    "```"
   ]
  },
  {
   "cell_type": "code",
   "execution_count": null,
   "id": "ef9f9a6d-c3ed-43c2-9a5a-89499d89cc4d",
   "metadata": {},
   "outputs": [],
   "source": [
    "!pip list | grep \"duckduckgo\""
   ]
  },
  {
   "cell_type": "markdown",
   "id": "34aaa9e4-ace8-48fa-9c2d-1c6a452a51db",
   "metadata": {},
   "source": [
    "For installing fastbook\n",
    "```sh\n",
    "pip list | grep \"fastbook\" || pip install -U fastbook\n",
    "```"
   ]
  },
  {
   "cell_type": "code",
   "execution_count": null,
   "id": "fd754451-b08e-4ed3-a2ed-569cfa19db8e",
   "metadata": {},
   "outputs": [],
   "source": [
    "!pip list | grep \"fastbook\""
   ]
  },
  {
   "cell_type": "code",
   "execution_count": null,
   "id": "3fe02392-bac6-438d-a5b6-371883141a62",
   "metadata": {},
   "outputs": [],
   "source": [
    "import torch\n"
   ]
  },
  {
   "cell_type": "code",
   "execution_count": null,
   "id": "788cf2f6-8f60-4a81-abad-f0d460d8e8f0",
   "metadata": {},
   "outputs": [
    {
     "data": {
      "text/plain": [
       "True"
      ]
     },
     "execution_count": null,
     "metadata": {},
     "output_type": "execute_result"
    }
   ],
   "source": [
    "torch.cuda.is_available()"
   ]
  },
  {
   "cell_type": "code",
   "execution_count": null,
   "id": "1265de02-213f-43d0-85fa-9c1ae3ba079b",
   "metadata": {},
   "outputs": [],
   "source": []
  }
 ],
 "metadata": {
  "kernelspec": {
   "display_name": "python3",
   "language": "python",
   "name": "python3"
  }
 },
 "nbformat": 4,
 "nbformat_minor": 5
}
