{
 "cells": [
  {
   "cell_type": "markdown",
   "id": "aa5d97b1-c0f7-4207-96fb-6b307b746ade",
   "metadata": {},
   "source": [
    "# FastAI Setup\n",
    "\n",
    "> Details on setting up FASTAI"
   ]
  },
  {
   "cell_type": "code",
   "execution_count": null,
   "id": "cad6f852-362f-4b4c-9f53-216487995f76",
   "metadata": {},
   "outputs": [],
   "source": [
    "#| default_exp fastai"
   ]
  },
  {
   "cell_type": "markdown",
   "id": "185ce9c7-65f2-4d41-8d6a-8f0390bf7639",
   "metadata": {},
   "source": [
    "## Installs\n",
    "\n",
    "```sh\n",
    "conda install -c nvidia fastai anaconda\n",
    "\n",
    "```"
   ]
  },
  {
   "cell_type": "markdown",
   "id": "6fc4e838-d683-4930-a3ca-6d3088078a36",
   "metadata": {},
   "source": [
    "For installing fastai\n",
    "```sh\n",
    "!pip list | grep \"fastai\" || pip install -U fastai\n",
    "```"
   ]
  },
  {
   "cell_type": "code",
   "execution_count": null,
   "id": "269fd483-3d0d-4ff4-b0d1-fe1376c285d8",
   "metadata": {},
   "outputs": [],
   "source": [
    "!pip list | grep \"fastai\" "
   ]
  },
  {
   "cell_type": "markdown",
   "id": "9f6050ed-d063-40ec-8763-4481d86c674c",
   "metadata": {},
   "source": [
    "For installing duckduckgo which is needed for downloading images\n",
    "```sh\n",
    "pip list | grep \"duckduckgo\" || pip install -U duckduckgo_search\n",
    "```"
   ]
  },
  {
   "cell_type": "code",
   "execution_count": null,
   "id": "ef9f9a6d-c3ed-43c2-9a5a-89499d89cc4d",
   "metadata": {},
   "outputs": [],
   "source": [
    "!pip list | grep \"duckduckgo\""
   ]
  },
  {
   "cell_type": "markdown",
   "id": "34aaa9e4-ace8-48fa-9c2d-1c6a452a51db",
   "metadata": {},
   "source": [
    "For installing fastbook\n",
    "```sh\n",
    "pip list | grep \"fastbook\" || pip install -U fastbook\n",
    "```"
   ]
  },
  {
   "cell_type": "code",
   "execution_count": null,
   "id": "fd754451-b08e-4ed3-a2ed-569cfa19db8e",
   "metadata": {},
   "outputs": [],
   "source": [
    "!pip list | grep \"fastbook\""
   ]
  },
  {
   "cell_type": "code",
   "execution_count": null,
   "id": "661a3227-005b-4714-a6d0-4aec20be93d7",
   "metadata": {},
   "outputs": [
    {
     "name": "stdout",
     "output_type": "stream",
     "text": [
      "# packages in environment at /home/ben/mambaforge/envs/myenv:\n",
      "#\n",
      "# Name                    Version                   Build  Channel\n",
      "_libgcc_mutex             0.1                 conda_forge    conda-forge\n",
      "_openmp_mutex             4.5                       2_gnu    conda-forge\n",
      "anyio                     3.7.1                    pypi_0    pypi\n",
      "argon2-cffi               21.3.0                   pypi_0    pypi\n",
      "argon2-cffi-bindings      21.2.0                   pypi_0    pypi\n",
      "arrow                     1.2.3                    pypi_0    pypi\n",
      "asttokens                 2.2.1                    pypi_0    pypi\n",
      "async-lru                 2.0.3                    pypi_0    pypi\n",
      "attrs                     23.1.0                   pypi_0    pypi\n",
      "babel                     2.12.1                   pypi_0    pypi\n",
      "backcall                  0.2.0                    pypi_0    pypi\n",
      "beautifulsoup4            4.12.2                   pypi_0    pypi\n",
      "bleach                    6.0.0                    pypi_0    pypi\n",
      "bzip2                     1.0.8                h7f98852_4    conda-forge\n",
      "ca-certificates           2023.5.7             hbcca054_0    conda-forge\n",
      "certifi                   2023.5.7                 pypi_0    pypi\n",
      "cffi                      1.15.1                   pypi_0    pypi\n",
      "charset-normalizer        3.2.0                    pypi_0    pypi\n",
      "comm                      0.1.3                    pypi_0    pypi\n",
      "contourpy                 1.1.0                    pypi_0    pypi\n",
      "cycler                    0.11.0                   pypi_0    pypi\n",
      "debugpy                   1.6.7                    pypi_0    pypi\n",
      "decorator                 5.1.1                    pypi_0    pypi\n",
      "defusedxml                0.7.1                    pypi_0    pypi\n",
      "executing                 1.2.0                    pypi_0    pypi\n",
      "fastjsonschema            2.17.1                   pypi_0    pypi\n",
      "fonttools                 4.41.0                   pypi_0    pypi\n",
      "fqdn                      1.5.1                    pypi_0    pypi\n",
      "idna                      3.4                      pypi_0    pypi\n",
      "ipykernel                 6.24.0                   pypi_0    pypi\n",
      "ipython                   8.14.0                   pypi_0    pypi\n",
      "ipython-genutils          0.2.0                    pypi_0    pypi\n",
      "ipywidgets                8.0.7                    pypi_0    pypi\n",
      "isoduration               20.11.0                  pypi_0    pypi\n",
      "jedi                      0.18.2                   pypi_0    pypi\n",
      "jinja2                    3.1.2                    pypi_0    pypi\n",
      "json5                     0.9.14                   pypi_0    pypi\n",
      "jsonpointer               2.4                      pypi_0    pypi\n",
      "jsonschema                4.18.4                   pypi_0    pypi\n",
      "jsonschema-specifications 2023.6.1                 pypi_0    pypi\n",
      "jupyter                   1.0.0                    pypi_0    pypi\n",
      "jupyter-client            8.3.0                    pypi_0    pypi\n",
      "jupyter-console           6.6.3                    pypi_0    pypi\n",
      "jupyter-core              5.3.1                    pypi_0    pypi\n",
      "jupyter-events            0.6.3                    pypi_0    pypi\n",
      "jupyter-lsp               2.2.0                    pypi_0    pypi\n",
      "jupyter-server            2.7.0                    pypi_0    pypi\n",
      "jupyter-server-terminals  0.4.4                    pypi_0    pypi\n",
      "jupyterlab                4.0.3                    pypi_0    pypi\n",
      "jupyterlab-pygments       0.2.2                    pypi_0    pypi\n",
      "jupyterlab-server         2.23.0                   pypi_0    pypi\n",
      "jupyterlab-widgets        3.0.8                    pypi_0    pypi\n",
      "kiwisolver                1.4.4                    pypi_0    pypi\n",
      "ld_impl_linux-64          2.40                 h41732ed_0    conda-forge\n",
      "libexpat                  2.5.0                hcb278e6_1    conda-forge\n",
      "libffi                    3.4.2                h7f98852_5    conda-forge\n",
      "libgcc-ng                 13.1.0               he5830b7_0    conda-forge\n",
      "libgomp                   13.1.0               he5830b7_0    conda-forge\n",
      "libnsl                    2.0.0                h7f98852_0    conda-forge\n",
      "libsqlite                 3.42.0               h2797004_0    conda-forge\n",
      "libuuid                   2.38.1               h0b41bf4_0    conda-forge\n",
      "libzlib                   1.2.13               hd590300_5    conda-forge\n",
      "markupsafe                2.1.3                    pypi_0    pypi\n",
      "matplotlib                3.7.2                    pypi_0    pypi\n",
      "matplotlib-inline         0.1.6                    pypi_0    pypi\n",
      "mistune                   3.0.1                    pypi_0    pypi\n",
      "nbclassic                 1.0.0                    pypi_0    pypi\n",
      "nbclient                  0.8.0                    pypi_0    pypi\n",
      "nbconvert                 7.7.1                    pypi_0    pypi\n",
      "nbformat                  5.9.1                    pypi_0    pypi\n",
      "ncurses                   6.4                  hcb278e6_0    conda-forge\n",
      "nest-asyncio              1.5.6                    pypi_0    pypi\n",
      "notebook                  6.5.4                    pypi_0    pypi\n",
      "notebook-shim             0.2.3                    pypi_0    pypi\n",
      "numpy                     1.25.1                   pypi_0    pypi\n",
      "openssl                   3.1.1                hd590300_1    conda-forge\n",
      "overrides                 7.3.1                    pypi_0    pypi\n",
      "packaging                 23.1                     pypi_0    pypi\n",
      "pandocfilters             1.5.0                    pypi_0    pypi\n",
      "parso                     0.8.3                    pypi_0    pypi\n",
      "pexpect                   4.8.0                    pypi_0    pypi\n",
      "pickleshare               0.7.5                    pypi_0    pypi\n",
      "pillow                    10.0.0                   pypi_0    pypi\n",
      "pip                       23.2               pyhd8ed1ab_0    conda-forge\n",
      "platformdirs              3.9.1                    pypi_0    pypi\n",
      "plotly                    5.15.0                   pypi_0    pypi\n",
      "prometheus-client         0.17.1                   pypi_0    pypi\n",
      "prompt-toolkit            3.0.39                   pypi_0    pypi\n",
      "psutil                    5.9.5                    pypi_0    pypi\n",
      "ptyprocess                0.7.0                    pypi_0    pypi\n",
      "pure-eval                 0.2.2                    pypi_0    pypi\n",
      "pycparser                 2.21                     pypi_0    pypi\n",
      "pygments                  2.15.1                   pypi_0    pypi\n",
      "pyparsing                 3.0.9                    pypi_0    pypi\n",
      "python                    3.11.4          hab00c5b_0_cpython    conda-forge\n",
      "python-dateutil           2.8.2                    pypi_0    pypi\n",
      "python-json-logger        2.0.7                    pypi_0    pypi\n",
      "pyyaml                    6.0.1                    pypi_0    pypi\n",
      "pyzmq                     25.1.0                   pypi_0    pypi\n",
      "qtconsole                 5.4.3                    pypi_0    pypi\n",
      "qtpy                      2.3.1                    pypi_0    pypi\n",
      "readline                  8.2                  h8228510_1    conda-forge\n",
      "referencing               0.29.3                   pypi_0    pypi\n",
      "requests                  2.31.0                   pypi_0    pypi\n",
      "rfc3339-validator         0.1.4                    pypi_0    pypi\n",
      "rfc3986-validator         0.1.1                    pypi_0    pypi\n",
      "rpds-py                   0.9.2                    pypi_0    pypi\n",
      "send2trash                1.8.2                    pypi_0    pypi\n",
      "setuptools                68.0.0             pyhd8ed1ab_0    conda-forge\n",
      "six                       1.16.0                   pypi_0    pypi\n",
      "sniffio                   1.3.0                    pypi_0    pypi\n",
      "soupsieve                 2.4.1                    pypi_0    pypi\n",
      "stack-data                0.6.2                    pypi_0    pypi\n",
      "tenacity                  8.2.2                    pypi_0    pypi\n",
      "terminado                 0.17.1                   pypi_0    pypi\n",
      "tinycss2                  1.2.1                    pypi_0    pypi\n",
      "tk                        8.6.12               h27826a3_0    conda-forge\n",
      "tornado                   6.3.2                    pypi_0    pypi\n",
      "traitlets                 5.9.0                    pypi_0    pypi\n",
      "tzdata                    2023c                h71feb2d_0    conda-forge\n",
      "uri-template              1.3.0                    pypi_0    pypi\n",
      "urllib3                   2.0.3                    pypi_0    pypi\n",
      "wcwidth                   0.2.6                    pypi_0    pypi\n",
      "webcolors                 1.13                     pypi_0    pypi\n",
      "webencodings              0.5.1                    pypi_0    pypi\n",
      "websocket-client          1.6.1                    pypi_0    pypi\n",
      "wheel                     0.40.0             pyhd8ed1ab_1    conda-forge\n",
      "widgetsnbextension        4.0.8                    pypi_0    pypi\n",
      "xz                        5.2.6                h166bdaf_0    conda-forge\n"
     ]
    }
   ],
   "source": [
    "!mamba list"
   ]
  },
  {
   "cell_type": "code",
   "execution_count": null,
   "id": "3fe02392-bac6-438d-a5b6-371883141a62",
   "metadata": {},
   "outputs": [],
   "source": []
  }
 ],
 "metadata": {
  "kernelspec": {
   "display_name": "python3",
   "language": "python",
   "name": "python3"
  }
 },
 "nbformat": 4,
 "nbformat_minor": 5
}
